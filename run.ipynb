{
 "cells": [
  {
   "cell_type": "code",
   "execution_count": 1,
   "metadata": {
    "ExecuteTime": {
     "end_time": "2023-10-26T23:03:28.272555500Z",
     "start_time": "2023-10-26T23:03:27.939451100Z"
    }
   },
   "outputs": [],
   "source": [
    "import numpy as np\n",
    "import matplotlib.pyplot as plt\n",
    "import pickle\n",
    "\n",
    "from implementations import *\n",
    "from helpers import *"
   ]
  },
  {
   "cell_type": "markdown",
   "source": [
    "### Load data"
   ],
   "metadata": {
    "collapsed": false
   }
  },
  {
   "cell_type": "code",
   "execution_count": 2,
   "outputs": [],
   "source": [
    "DATA_FOLDER = 'data/'"
   ],
   "metadata": {
    "collapsed": false,
    "ExecuteTime": {
     "end_time": "2023-10-26T23:03:28.282773100Z",
     "start_time": "2023-10-26T23:03:28.272555500Z"
    }
   }
  },
  {
   "cell_type": "code",
   "execution_count": 3,
   "outputs": [],
   "source": [
    "try:\n",
    "    with open(DATA_FOLDER + 'x_train.pickle', 'rb') as f:\n",
    "        x_train = pickle.load(f)\n",
    "    with open(DATA_FOLDER + 'x_test.pickle', 'rb') as f:\n",
    "        x_test = pickle.load(f)\n",
    "    with open(DATA_FOLDER + 'y_train.pickle', 'rb') as f:\n",
    "        y_train = pickle.load(f)\n",
    "    with open(DATA_FOLDER + 'test_ids.pickle', 'rb') as f:\n",
    "        test_ids = pickle.load(f)\n",
    "except:\n",
    "    x_train, x_test, y_train, train_ids, test_ids = load_csv_data(DATA_FOLDER, sub_sample=False)\n",
    "\n",
    "    names = np.genfromtxt(DATA_FOLDER + 'x_train.csv', delimiter=\",\", dtype=str, max_rows=1)\n",
    "    names = np.delete(names, 0)\n",
    "    names_map = {}\n",
    "    for i in range(len(names)):\n",
    "        names_map[names[i]] = i\n",
    "\n",
    "    x_train[np.isnan(x_train)] = 0\n",
    "    x_test[np.isnan(x_test)] = 0\n",
    "\n",
    "    with open(DATA_FOLDER + 'x_train.pickle', 'wb') as f:\n",
    "        pickle.dump(x_train, f)\n",
    "\n",
    "    with open(DATA_FOLDER + 'x_test.pickle', 'wb') as f:\n",
    "        pickle.dump(x_test, f)\n",
    "\n",
    "    with open(DATA_FOLDER + 'y_train.pickle', 'wb') as f:\n",
    "        pickle.dump(y_train, f)\n",
    "\n",
    "    with open(DATA_FOLDER + 'test_ids.pickle', 'wb') as f:\n",
    "        pickle.dump(test_ids, f)"
   ],
   "metadata": {
    "collapsed": false,
    "ExecuteTime": {
     "end_time": "2023-10-26T23:03:28.584473900Z",
     "start_time": "2023-10-26T23:03:28.278752900Z"
    }
   }
  },
  {
   "cell_type": "code",
   "execution_count": 4,
   "outputs": [],
   "source": [
    "y_train = np.where(y_train == -1, 0, y_train)"
   ],
   "metadata": {
    "collapsed": false,
    "ExecuteTime": {
     "end_time": "2023-10-26T23:03:28.595097700Z",
     "start_time": "2023-10-26T23:03:28.584473900Z"
    }
   }
  },
  {
   "cell_type": "markdown",
   "source": [
    "### Sort of Cross-Validation on lambda and gamma"
   ],
   "metadata": {
    "collapsed": false
   }
  },
  {
   "cell_type": "code",
   "execution_count": 5,
   "outputs": [],
   "source": [
    "def build_k_indices(y, k_fold, seed):\n",
    "    num_row = y.shape[0]\n",
    "    interval = int(num_row / k_fold)\n",
    "    np.random.seed(seed)\n",
    "    indices = np.random.permutation(num_row)\n",
    "    k_indices = [indices[k * interval : (k + 1) * interval] for k in range(k_fold)]\n",
    "    return np.array(k_indices)"
   ],
   "metadata": {
    "collapsed": false,
    "ExecuteTime": {
     "end_time": "2023-10-26T23:03:28.603471900Z",
     "start_time": "2023-10-26T23:03:28.589577900Z"
    }
   }
  },
  {
   "cell_type": "code",
   "execution_count": 6,
   "outputs": [],
   "source": [
    "def cross_validation(y, x, k_indices, k, lambda_, gamma, max_iters, initial_w):\n",
    "    # ***************************************************\n",
    "    val_indices = k_indices[k]\n",
    "    tr_indices = k_indices[~(np.arange(k_indices.shape[0]) == k)].flatten()\n",
    "    \n",
    "    y_val = y[val_indices]\n",
    "    y_tr = y[tr_indices]\n",
    "    x_val_cv = x[val_indices]\n",
    "    x_tr_cv = x[tr_indices]\n",
    "\n",
    "    w, losses, gen_losses = my_reg_logistic_regression(y_tr, x_tr_cv, y_val, x_val_cv, lambda_, initial_w, max_iters,\n",
    "                                                       gamma)\n",
    "    loss_tr = np.min(losses)\n",
    "    loss_val = np.min(gen_losses)\n",
    "    # ***************************************************\n",
    "    return loss_tr, loss_val"
   ],
   "metadata": {
    "collapsed": false,
    "ExecuteTime": {
     "end_time": "2023-10-26T23:03:28.612588300Z",
     "start_time": "2023-10-26T23:03:28.602447800Z"
    }
   }
  },
  {
   "cell_type": "code",
   "execution_count": 7,
   "outputs": [],
   "source": [
    "def preprocess_data(x):\n",
    "    # Prepare data for cross-validation\n",
    "    x_tr_cv = x.copy()\n",
    "    # x_tr_cv = x_tr.copy()\n",
    "    # x_val_cv = x_val.copy()\n",
    "    \n",
    "    # Scaling each column\n",
    "    for i in range(x_tr_cv.shape[1]):\n",
    "        x_tr_cv[:, i] = (x_tr_cv[:, i] - np.mean(x_tr_cv[:, i])) / np.std(x_tr_cv[:, i])\n",
    "        # x_val_cv[:, i] = (x_val_cv[:, i] - np.mean(x_val_cv[:, i])) / np.std(x_val_cv[:, i])\n",
    "    \n",
    "    # Adding an intercept   \n",
    "    x_tr_cv = np.c_[np.ones((x_tr_cv.shape[0], 1)), x_tr_cv]\n",
    "    # x_val_cv = np.c_[np.ones((x_val_cv.shape[0], 1)), x_val_cv]\n",
    "    \n",
    "    return x_tr_cv"
   ],
   "metadata": {
    "collapsed": false,
    "ExecuteTime": {
     "end_time": "2023-10-26T23:03:28.623385200Z",
     "start_time": "2023-10-26T23:03:28.611589500Z"
    }
   }
  },
  {
   "cell_type": "code",
   "execution_count": 8,
   "outputs": [],
   "source": [
    "max_iters = 5\n",
    "\n",
    "k_fold = 5\n",
    "\n",
    "losses_list = []\n",
    "gen_losses_list = []\n",
    "\n",
    "# split data in k fold\n",
    "k_indices = build_k_indices(y_train, k_fold, 42)"
   ],
   "metadata": {
    "collapsed": false,
    "ExecuteTime": {
     "end_time": "2023-10-26T23:03:28.632053500Z",
     "start_time": "2023-10-26T23:03:28.617291400Z"
    }
   }
  },
  {
   "cell_type": "markdown",
   "source": [
    "### Polynomial expansion"
   ],
   "metadata": {
    "collapsed": false,
    "ExecuteTime": {
     "end_time": "2023-10-26T14:36:42.946970500Z",
     "start_time": "2023-10-26T14:36:42.939786600Z"
    }
   }
  },
  {
   "cell_type": "code",
   "execution_count": 11,
   "outputs": [],
   "source": [
    "def build_poly(x, degree):\n",
    "    \"\"\"polynomial basis functions for input data x, for j=0 up to j=degree.\n",
    "\n",
    "    Args:\n",
    "        x: numpy array of shape (N,), N is the number of samples.\n",
    "        degree: integer.\n",
    "\n",
    "    Returns:\n",
    "        poly: numpy array of shape (N,d+1)\n",
    "\n",
    "    >>> build_poly(np.array([0.0, 1.5]), 2)\n",
    "    array([[1.  , 0.  , 0.  ],\n",
    "           [1.  , 1.5 , 2.25]])\n",
    "    \"\"\"\n",
    "    feature_matrix = np.zeros((x.shape[0], degree * x.shape[1]))\n",
    "    \n",
    "    for i in range(1, degree + 1):\n",
    "        feature_matrix[:, (i - 1) * x.shape[1]:i * x.shape[1]] = x ** i\n",
    "        \n",
    "    return feature_matrix"
   ],
   "metadata": {
    "collapsed": false,
    "ExecuteTime": {
     "end_time": "2023-10-26T23:03:28.661502400Z",
     "start_time": "2023-10-26T23:03:28.649317100Z"
    }
   }
  },
  {
   "cell_type": "markdown",
   "source": [
    "### CV on everything"
   ],
   "metadata": {
    "collapsed": false,
    "ExecuteTime": {
     "start_time": "2023-10-26T17:19:20.445531200Z"
    }
   }
  },
  {
   "cell_type": "code",
   "execution_count": 14,
   "outputs": [
    {
     "name": "stdout",
     "output_type": "stream",
     "text": [
      "Best degree: 3, best lambda: 0.005, best gamma: 0.2, best loss: 0.4912204205687969\n",
      "CPU times: total: 44min 29s\n",
      "Wall time: 1h 21min 40s\n"
     ]
    }
   ],
   "source": [
    "%%time\n",
    "\n",
    "best_lambda_gammas = []\n",
    "best_losses = []\n",
    "\n",
    "lambdas = [.005, .01, .05]\n",
    "gammas = [.01, .05, .1, .2]\n",
    "lambda_gammas = [(lambdas[i], gammas[j]) for j in range(len(gammas)) for i in range(len(lambdas))]\n",
    "degrees = [3, 4]\n",
    "max_iters = 10\n",
    "\n",
    "for degree in degrees:\n",
    "    x_tr_exp = build_poly(x_train, degree)   \n",
    "    x_tr_cv = preprocess_data(x_tr_exp)\n",
    "    \n",
    "    loss_degree = []\n",
    "    for lambda_, gamma in lambda_gammas:\n",
    "        loss_l_g = []\n",
    "        \n",
    "        for k in range(k_fold):\n",
    "            _, loss_validation = cross_validation(y_train, x_tr_cv, k_indices, k, lambda_, gamma, max_iters, np.zeros(x_tr_cv.shape[1]))\n",
    "            loss_l_g.append(loss_validation)\n",
    "        loss_degree.append(np.mean(loss_l_g))\n",
    "\n",
    "    ind_lambda_gamma_opt = np.argmin(loss_degree)\n",
    "    best_lambda_gammas.append(lambda_gammas[ind_lambda_gamma_opt])\n",
    "    best_losses.append(loss_degree[ind_lambda_gamma_opt])\n",
    "\n",
    "ind_best_degree = np.argmin(best_losses)\n",
    "best_degree = degrees[ind_best_degree]\n",
    "best_lambda, best_gamma = best_lambda_gammas[ind_best_degree]\n",
    "best_loss = best_losses[ind_best_degree]\n",
    "\n",
    "print(f\"Best degree: {best_degree}, best lambda: {best_lambda}, best gamma: {best_gamma}, best loss: {best_loss}\")"
   ],
   "metadata": {
    "collapsed": false,
    "ExecuteTime": {
     "end_time": "2023-10-27T00:28:15.204258100Z",
     "start_time": "2023-10-26T23:06:34.761857400Z"
    }
   }
  },
  {
   "cell_type": "markdown",
   "source": [
    "### Training"
   ],
   "metadata": {
    "collapsed": false
   }
  },
  {
   "cell_type": "code",
   "execution_count": 15,
   "outputs": [],
   "source": [
    "best_lambda = .005\n",
    "best_gamma = 0.2\n",
    "best_degree = 3"
   ],
   "metadata": {
    "collapsed": false,
    "ExecuteTime": {
     "end_time": "2023-10-27T00:28:57.555544800Z",
     "start_time": "2023-10-27T00:28:57.541838300Z"
    }
   }
  },
  {
   "cell_type": "code",
   "execution_count": 16,
   "outputs": [],
   "source": [
    "# separate training and validation dataset\n",
    "ratio = 0.8\n",
    "np.seed = 42\n",
    "n = x_train.shape[0]\n",
    "train_indices = np.random.choice(n, int(ratio * n), replace=False)\n",
    "\n",
    "x_tr, y_tr, x_val, y_val = x_train[train_indices, :], y_train[train_indices], np.delete(x_train, train_indices,\n",
    "                                                                                        axis=0), np.delete(y_train,\n",
    "                                                                                                           train_indices,\n",
    "                                                                                                           axis=0)"
   ],
   "metadata": {
    "collapsed": false,
    "ExecuteTime": {
     "end_time": "2023-10-27T00:28:58.358157500Z",
     "start_time": "2023-10-27T00:28:57.964114100Z"
    }
   }
  },
  {
   "cell_type": "code",
   "execution_count": 17,
   "outputs": [],
   "source": [
    "degree = best_degree\n",
    "\n",
    "x_tr_exp = build_poly(x_tr, degree)\n",
    "x_val_exp = build_poly(x_val, degree)\n",
    "\n",
    "# Scaling each column\n",
    "for i in range(x_tr_exp.shape[1]):\n",
    "    x_tr_exp[:, i] = (x_tr_exp[:, i] - np.mean(x_tr_exp[:, i])) / np.std(x_tr_exp[:, i])\n",
    "    x_val_exp[:, i] = (x_val_exp[:, i] - np.mean(x_val_exp[:, i])) / np.std(x_val_exp[:, i])\n",
    "\n",
    "# Adding an intercept\n",
    "x_tr_exp = np.c_[np.ones((x_tr_exp.shape[0], 1)), x_tr_exp]\n",
    "x_val_exp = np.c_[np.ones((x_val_exp.shape[0], 1)), x_val_exp]"
   ],
   "metadata": {
    "collapsed": false,
    "ExecuteTime": {
     "end_time": "2023-10-27T00:29:13.291567700Z",
     "start_time": "2023-10-27T00:28:59.477418300Z"
    }
   }
  },
  {
   "cell_type": "code",
   "execution_count": 18,
   "outputs": [
    {
     "data": {
      "text/plain": "<Figure size 640x480 with 1 Axes>",
      "image/png": "[encoded data removed]"
     },
     "metadata": {},
     "output_type": "display_data"
    },
    {
     "name": "stdout",
     "output_type": "stream",
     "text": [
      "CPU times: total: 1min 52s\n",
      "Wall time: 3min 4s\n"
     ]
    }
   ],
   "source": [
    "%%time\n",
    "\n",
    "initial_w = np.zeros(x_tr_exp.shape[1])\n",
    "\n",
    "max_iters = 50\n",
    "\n",
    "gamma = best_gamma\n",
    "lambda_ = best_lambda\n",
    "\n",
    "w, losses, gen_losses = my_reg_logistic_regression(y_tr, x_tr_exp, y_val, x_val_exp, lambda_, initial_w, max_iters,\n",
    "                                                   gamma)\n",
    "plt.plot(losses)\n",
    "plt.plot(gen_losses)\n",
    "plt.legend([\"train losses\", \"validation losses\"])\n",
    "plt.show()"
   ],
   "metadata": {
    "collapsed": false,
    "ExecuteTime": {
     "end_time": "2023-10-27T00:32:17.841843200Z",
     "start_time": "2023-10-27T00:29:13.410282500Z"
    }
   }
  },
  {
   "cell_type": "markdown",
   "source": [
    "### Testing"
   ],
   "metadata": {
    "collapsed": false
   }
  },
  {
   "cell_type": "code",
   "execution_count": 37,
   "outputs": [],
   "source": [
    "def recall(y_got, y_expected):\n",
    "    true_positive = np.sum(np.where(y_got == 1, y_expected == 1, 0))\n",
    "    return true_positive / sum(y_expected == 1)"
   ],
   "metadata": {
    "collapsed": false,
    "ExecuteTime": {
     "end_time": "2023-10-27T00:36:14.537904500Z",
     "start_time": "2023-10-27T00:36:14.531582400Z"
    }
   }
  },
  {
   "cell_type": "code",
   "execution_count": 38,
   "outputs": [],
   "source": [
    "def precision(y_got, y_expected):\n",
    "    true_positive = np.sum(np.where(y_got == 1, y_expected == 1, 0))\n",
    "    return true_positive / sum(y_got == 1)"
   ],
   "metadata": {
    "collapsed": false,
    "ExecuteTime": {
     "end_time": "2023-10-27T00:36:14.689641100Z",
     "start_time": "2023-10-27T00:36:14.681601100Z"
    }
   }
  },
  {
   "cell_type": "code",
   "execution_count": 39,
   "outputs": [],
   "source": [
    "def f1_score(y_got, y_expected):\n",
    "    prec = precision(y_got, y_expected)\n",
    "    rec = recall(y_got, y_expected)\n",
    "    return 2 * prec * rec / (prec + rec)"
   ],
   "metadata": {
    "collapsed": false,
    "ExecuteTime": {
     "end_time": "2023-10-27T00:36:15.035027500Z",
     "start_time": "2023-10-27T00:36:15.011646600Z"
    }
   }
  },
  {
   "cell_type": "code",
   "execution_count": 47,
   "outputs": [
    {
     "name": "stdout",
     "output_type": "stream",
     "text": [
      "F1: 0.00013804051489112057, recall: 6.902502157031924e-05, precision: 1.0\n"
     ]
    }
   ],
   "source": [
    "x_train_full = np.concatenate((x_tr_exp, x_val_exp), axis=0)\n",
    "y_got = x_train_full @ w\n",
    "\n",
    "y_got[:] = 1 / (1 + np.exp(-y_got[:]))\n",
    "y_got[:] = np.where(y_got[:] > 0.5, 1, 0)\n",
    "\n",
    "f1 = f1_score(y_got, y_train)\n",
    "rec = recall(y_got, y_train)\n",
    "prec = precision(y_got, y_train)\n",
    "print(f\"F1: {f1}, recall: {rec}, precision: {prec}\")"
   ],
   "metadata": {
    "collapsed": false,
    "ExecuteTime": {
     "end_time": "2023-10-27T00:44:16.947880400Z",
     "start_time": "2023-10-27T00:44:16.214110800Z"
    }
   }
  },
  {
   "cell_type": "code",
   "execution_count": 34,
   "outputs": [
    {
     "data": {
      "text/plain": "array([[ 3.28135000e+05, -4.52206511e+00],\n       [ 3.28136000e+05,  2.19378802e+00],\n       [ 3.28137000e+05, -5.08784565e+00],\n       ...,\n       [ 4.37511000e+05,  4.44217363e+00],\n       [ 4.37512000e+05, -4.17574638e+00],\n       [ 4.37513000e+05, -4.21684553e+00]])"
     },
     "execution_count": 34,
     "metadata": {},
     "output_type": "execute_result"
    }
   ],
   "source": [
    "x_test_exp = build_poly(x_test, degree)\n",
    "for i in range(x_test_exp.shape[1]):\n",
    "    x_test_exp[:, i] = (x_test_exp[:, i] - np.mean(x_test_exp[:, i])) / np.std(x_test_exp[:, i])\n",
    "x_test_exp = np.c_[np.ones((x_test_exp.shape[0], 1)), x_test_exp]\n",
    "\n",
    "result = x_test_exp @ w\n",
    "result = np.c_[test_ids, result]\n",
    "result"
   ],
   "metadata": {
    "collapsed": false,
    "ExecuteTime": {
     "end_time": "2023-10-26T13:59:16.589305900Z",
     "start_time": "2023-10-26T13:59:11.229890900Z"
    }
   }
  },
  {
   "cell_type": "code",
   "execution_count": 35,
   "outputs": [
    {
     "data": {
      "text/plain": "array([[ 3.28135e+05, -1.00000e+00],\n       [ 3.28136e+05,  1.00000e+00],\n       [ 3.28137e+05, -1.00000e+00],\n       ...,\n       [ 4.37511e+05,  1.00000e+00],\n       [ 4.37512e+05, -1.00000e+00],\n       [ 4.37513e+05, -1.00000e+00]])"
     },
     "execution_count": 35,
     "metadata": {},
     "output_type": "execute_result"
    }
   ],
   "source": [
    "# Sigmoid to classify\n",
    "result[:, 1] = 1 / (1 + np.exp(-result[:, 1]))\n",
    "result[:, 1] = np.where(result[:, 1] > 0.5, 1, -1)\n",
    "\n",
    "result"
   ],
   "metadata": {
    "collapsed": false,
    "ExecuteTime": {
     "end_time": "2023-10-26T13:59:18.683789500Z",
     "start_time": "2023-10-26T13:59:18.676154700Z"
    }
   }
  },
  {
   "cell_type": "code",
   "execution_count": 36,
   "outputs": [],
   "source": [
    "with open(f'{DATA_FOLDER}result.csv', 'w') as f:\n",
    "    f.write('Id,Prediction\\n')\n",
    "    for row in result:\n",
    "        f.write(f'{int(row[0])},{int(row[1])}\\n')"
   ],
   "metadata": {
    "collapsed": false,
    "ExecuteTime": {
     "end_time": "2023-10-26T13:59:21.112311400Z",
     "start_time": "2023-10-26T13:59:21.001410600Z"
    }
   }
  }
 ],
 "metadata": {
  "kernelspec": {
   "display_name": "base",
   "language": "python",
   "name": "python3"
  },
  "language_info": {
   "codemirror_mode": {
    "name": "ipython",
    "version": 3
   },
   "file_extension": ".py",
   "mimetype": "text/x-python",
   "name": "python",
   "nbconvert_exporter": "python",
   "pygments_lexer": "ipython3",
   "version": "3.11.4"
  },
  "orig_nbformat": 4
 },
 "nbformat": 4,
 "nbformat_minor": 2
}
