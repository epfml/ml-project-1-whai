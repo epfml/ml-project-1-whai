{
 "cells": [
  {
   "cell_type": "code",
   "execution_count": 1,
   "metadata": {},
   "outputs": [],
   "source": [
    "import pandas as pd\n",
    "import numpy as np\n",
    "import matplotlib.pyplot as plt"
   ]
  },
  {
   "cell_type": "code",
   "execution_count": 2,
   "metadata": {},
   "outputs": [],
   "source": [
    "x_tr = pd.read_csv('data/x_train.csv')\n",
    "y_tr = pd.read_csv('data/y_train.csv')"
   ]
  },
  {
   "cell_type": "code",
   "execution_count": 160,
   "metadata": {},
   "outputs": [
    {
     "data": {
      "text/plain": [
       "(4,)"
      ]
     },
     "execution_count": 160,
     "metadata": {},
     "output_type": "execute_result"
    }
   ],
   "source": [
    "w = np.array([0,1,2,3])\n",
    "w.shape"
   ]
  },
  {
   "cell_type": "code",
   "execution_count": 161,
   "metadata": {},
   "outputs": [
    {
     "data": {
      "text/plain": [
       "(4, 1)"
      ]
     },
     "execution_count": 161,
     "metadata": {},
     "output_type": "execute_result"
    }
   ],
   "source": [
    "w = np.array([[0,1,2,3]]).T\n",
    "w.shape"
   ]
  },
  {
   "cell_type": "code",
   "execution_count": 3,
   "metadata": {},
   "outputs": [
    {
     "data": {
      "text/html": [
       "<div>\n",
       "<style scoped>\n",
       "    .dataframe tbody tr th:only-of-type {\n",
       "        vertical-align: middle;\n",
       "    }\n",
       "\n",
       "    .dataframe tbody tr th {\n",
       "        vertical-align: top;\n",
       "    }\n",
       "\n",
       "    .dataframe thead th {\n",
       "        text-align: right;\n",
       "    }\n",
       "</style>\n",
       "<table border=\"1\" class=\"dataframe\">\n",
       "  <thead>\n",
       "    <tr style=\"text-align: right;\">\n",
       "      <th></th>\n",
       "      <th>_STATE</th>\n",
       "      <th>FMONTH</th>\n",
       "      <th>IDATE</th>\n",
       "      <th>IMONTH</th>\n",
       "      <th>IDAY</th>\n",
       "      <th>IYEAR</th>\n",
       "      <th>DISPCODE</th>\n",
       "      <th>SEQNO</th>\n",
       "      <th>_PSU</th>\n",
       "      <th>CTELENUM</th>\n",
       "      <th>...</th>\n",
       "      <th>_PAREC1</th>\n",
       "      <th>_PASTAE1</th>\n",
       "      <th>_LMTACT1</th>\n",
       "      <th>_LMTWRK1</th>\n",
       "      <th>_LMTSCL1</th>\n",
       "      <th>_RFSEAT2</th>\n",
       "      <th>_RFSEAT3</th>\n",
       "      <th>_FLSHOT6</th>\n",
       "      <th>_PNEUMO2</th>\n",
       "      <th>_AIDTST3</th>\n",
       "    </tr>\n",
       "  </thead>\n",
       "  <tbody>\n",
       "    <tr>\n",
       "      <th>0</th>\n",
       "      <td>53</td>\n",
       "      <td>11</td>\n",
       "      <td>11162015</td>\n",
       "      <td>11</td>\n",
       "      <td>16</td>\n",
       "      <td>2015</td>\n",
       "      <td>1100</td>\n",
       "      <td>2015015629</td>\n",
       "      <td>2015015629</td>\n",
       "      <td>NaN</td>\n",
       "      <td>...</td>\n",
       "      <td>1</td>\n",
       "      <td>1</td>\n",
       "      <td>3.0</td>\n",
       "      <td>3.0</td>\n",
       "      <td>4.0</td>\n",
       "      <td>1</td>\n",
       "      <td>1</td>\n",
       "      <td>NaN</td>\n",
       "      <td>NaN</td>\n",
       "      <td>2.0</td>\n",
       "    </tr>\n",
       "    <tr>\n",
       "      <th>1</th>\n",
       "      <td>33</td>\n",
       "      <td>12</td>\n",
       "      <td>12152015</td>\n",
       "      <td>12</td>\n",
       "      <td>15</td>\n",
       "      <td>2015</td>\n",
       "      <td>1200</td>\n",
       "      <td>2015004387</td>\n",
       "      <td>2015004387</td>\n",
       "      <td>1.0</td>\n",
       "      <td>...</td>\n",
       "      <td>9</td>\n",
       "      <td>9</td>\n",
       "      <td>3.0</td>\n",
       "      <td>3.0</td>\n",
       "      <td>4.0</td>\n",
       "      <td>9</td>\n",
       "      <td>9</td>\n",
       "      <td>NaN</td>\n",
       "      <td>NaN</td>\n",
       "      <td>NaN</td>\n",
       "    </tr>\n",
       "    <tr>\n",
       "      <th>2</th>\n",
       "      <td>20</td>\n",
       "      <td>10</td>\n",
       "      <td>10202015</td>\n",
       "      <td>10</td>\n",
       "      <td>20</td>\n",
       "      <td>2015</td>\n",
       "      <td>1100</td>\n",
       "      <td>2015005638</td>\n",
       "      <td>2015005638</td>\n",
       "      <td>1.0</td>\n",
       "      <td>...</td>\n",
       "      <td>4</td>\n",
       "      <td>2</td>\n",
       "      <td>2.0</td>\n",
       "      <td>2.0</td>\n",
       "      <td>3.0</td>\n",
       "      <td>1</td>\n",
       "      <td>1</td>\n",
       "      <td>1.0</td>\n",
       "      <td>2.0</td>\n",
       "      <td>2.0</td>\n",
       "    </tr>\n",
       "    <tr>\n",
       "      <th>3</th>\n",
       "      <td>42</td>\n",
       "      <td>6</td>\n",
       "      <td>6182015</td>\n",
       "      <td>6</td>\n",
       "      <td>18</td>\n",
       "      <td>2015</td>\n",
       "      <td>1100</td>\n",
       "      <td>2015004694</td>\n",
       "      <td>2015004694</td>\n",
       "      <td>NaN</td>\n",
       "      <td>...</td>\n",
       "      <td>2</td>\n",
       "      <td>2</td>\n",
       "      <td>2.0</td>\n",
       "      <td>2.0</td>\n",
       "      <td>3.0</td>\n",
       "      <td>1</td>\n",
       "      <td>1</td>\n",
       "      <td>2.0</td>\n",
       "      <td>2.0</td>\n",
       "      <td>2.0</td>\n",
       "    </tr>\n",
       "    <tr>\n",
       "      <th>4</th>\n",
       "      <td>24</td>\n",
       "      <td>11</td>\n",
       "      <td>11062015</td>\n",
       "      <td>11</td>\n",
       "      <td>6</td>\n",
       "      <td>2015</td>\n",
       "      <td>1100</td>\n",
       "      <td>2015004673</td>\n",
       "      <td>2015004673</td>\n",
       "      <td>1.0</td>\n",
       "      <td>...</td>\n",
       "      <td>9</td>\n",
       "      <td>9</td>\n",
       "      <td>3.0</td>\n",
       "      <td>3.0</td>\n",
       "      <td>4.0</td>\n",
       "      <td>1</td>\n",
       "      <td>1</td>\n",
       "      <td>9.0</td>\n",
       "      <td>9.0</td>\n",
       "      <td>2.0</td>\n",
       "    </tr>\n",
       "  </tbody>\n",
       "</table>\n",
       "<p>5 rows × 321 columns</p>\n",
       "</div>"
      ],
      "text/plain": [
       "   _STATE  FMONTH     IDATE  IMONTH  IDAY  IYEAR  DISPCODE       SEQNO  \\\n",
       "0      53      11  11162015      11    16   2015      1100  2015015629   \n",
       "1      33      12  12152015      12    15   2015      1200  2015004387   \n",
       "2      20      10  10202015      10    20   2015      1100  2015005638   \n",
       "3      42       6   6182015       6    18   2015      1100  2015004694   \n",
       "4      24      11  11062015      11     6   2015      1100  2015004673   \n",
       "\n",
       "         _PSU  CTELENUM  ...  _PAREC1  _PASTAE1  _LMTACT1  _LMTWRK1  _LMTSCL1  \\\n",
       "0  2015015629       NaN  ...        1         1       3.0       3.0       4.0   \n",
       "1  2015004387       1.0  ...        9         9       3.0       3.0       4.0   \n",
       "2  2015005638       1.0  ...        4         2       2.0       2.0       3.0   \n",
       "3  2015004694       NaN  ...        2         2       2.0       2.0       3.0   \n",
       "4  2015004673       1.0  ...        9         9       3.0       3.0       4.0   \n",
       "\n",
       "   _RFSEAT2  _RFSEAT3  _FLSHOT6  _PNEUMO2  _AIDTST3  \n",
       "0         1         1       NaN       NaN       2.0  \n",
       "1         9         9       NaN       NaN       NaN  \n",
       "2         1         1       1.0       2.0       2.0  \n",
       "3         1         1       2.0       2.0       2.0  \n",
       "4         1         1       9.0       9.0       2.0  \n",
       "\n",
       "[5 rows x 321 columns]"
      ]
     },
     "execution_count": 3,
     "metadata": {},
     "output_type": "execute_result"
    }
   ],
   "source": [
    "x_tr.head()"
   ]
  },
  {
   "cell_type": "code",
   "execution_count": 62,
   "metadata": {},
   "outputs": [],
   "source": [
    "percent_missing = x_tr.isnull().sum() * 100 / len(x_tr)"
   ]
  },
  {
   "cell_type": "code",
   "execution_count": 85,
   "metadata": {},
   "outputs": [
    {
     "data": {
      "text/plain": [
       "_STATE       0.000000\n",
       "_EDUCAG      0.000000\n",
       "_INCOMG      0.000000\n",
       "_SMOKER3     0.000000\n",
       "_RFSMOK3     0.000000\n",
       "              ...    \n",
       "ASERVIST    99.930516\n",
       "ASDRVIST    99.930516\n",
       "PCDMDECN    99.945449\n",
       "COLGHOUS    99.990248\n",
       "LADULT      99.990248\n",
       "Length: 321, dtype: float64"
      ]
     },
     "execution_count": 85,
     "metadata": {},
     "output_type": "execute_result"
    }
   ],
   "source": [
    "percent_missing.sort_values()"
   ]
  },
  {
   "cell_type": "code",
   "execution_count": 91,
   "metadata": {},
   "outputs": [
    {
     "data": {
      "text/plain": [
       "(array([139,   4,   1,  19,  11,  18,   8,   5,  17,  99], dtype=int64),\n",
       " array([ 0.        ,  9.99902479, 19.99804958, 29.99707437, 39.99609917,\n",
       "        49.99512396, 59.99414875, 69.99317354, 79.99219833, 89.99122312,\n",
       "        99.99024792]))"
      ]
     },
     "execution_count": 91,
     "metadata": {},
     "output_type": "execute_result"
    }
   ],
   "source": [
    "np.histogram(percent_missing.values)"
   ]
  },
  {
   "cell_type": "code",
   "execution_count": 93,
   "metadata": {},
   "outputs": [
    {
     "data": {
      "text/plain": [
       "(array([115.,  24.,   4.,   0.,   0.,   1.,  13.,   6.,  10.,   1.,   3.,\n",
       "         15.,   4.,   4.,   4.,   1.,   5.,  12.,  31.,  68.]),\n",
       " array([ 0.        ,  4.9995124 ,  9.99902479, 14.99853719, 19.99804958,\n",
       "        24.99756198, 29.99707437, 34.99658677, 39.99609917, 44.99561156,\n",
       "        49.99512396, 54.99463635, 59.99414875, 64.99366115, 69.99317354,\n",
       "        74.99268594, 79.99219833, 84.99171073, 89.99122312, 94.99073552,\n",
       "        99.99024792]),\n",
       " <BarContainer object of 20 artists>)"
      ]
     },
     "execution_count": 93,
     "metadata": {},
     "output_type": "execute_result"
    },
    {
     "data": {
      "image/png": "[encoded data removed]",
      "text/plain": [
       "<Figure size 640x480 with 1 Axes>"
      ]
     },
     "metadata": {},
     "output_type": "display_data"
    }
   ],
   "source": [
    "plt.hist(percent_missing.values, bins=20)"
   ]
  },
  {
   "cell_type": "code",
   "execution_count": 104,
   "metadata": {},
   "outputs": [
    {
     "data": {
      "text/plain": [
       "array([  0,   1,   2,   3,   4,   5,   6,   7,   8,  28,  30,  31,  36,\n",
       "        39,  40,  43,  44,  46,  47,  50,  51,  52,  53,  58, 216, 219,\n",
       "       221, 222, 227, 229, 230, 231, 232, 233, 235, 236, 237, 239, 240,\n",
       "       241, 242, 243, 244, 246, 247, 248, 249, 255, 256, 257, 258, 259,\n",
       "       260, 261, 262, 263, 264, 265, 272, 273, 274, 275, 278, 279, 280,\n",
       "       281, 282, 283, 284, 287, 288, 298, 305, 306, 307, 308, 309, 310,\n",
       "       311, 312, 316, 317], dtype=int64)"
      ]
     },
     "execution_count": 104,
     "metadata": {},
     "output_type": "execute_result"
    }
   ],
   "source": [
    "np.where(percent_missing.values == 0)[0]"
   ]
  },
  {
   "cell_type": "code",
   "execution_count": 113,
   "metadata": {},
   "outputs": [],
   "source": [
    "null_columns = x_tr.isnull().any()\n",
    "null_columns = null_columns[null_columns].index\n",
    "non_null_columns = x_tr.isnull().any()\n",
    "non_null_columns = non_null_columns[~non_null_columns].index.values"
   ]
  },
  {
   "cell_type": "code",
   "execution_count": 128,
   "metadata": {},
   "outputs": [
    {
     "data": {
      "text/plain": [
       "array(['_STATE', 'FMONTH', 'IDATE', 'IMONTH', 'IDAY', 'IYEAR', 'DISPCODE',\n",
       "       'SEQNO', '_PSU', 'MENTHLTH', 'HLTHPLN1', 'PERSDOC2', 'BLOODCHO',\n",
       "       'CVDSTRK3', 'ASTHMA3', 'CHCOCNCR', 'CHCCOPD1', 'ADDEPEV2',\n",
       "       'CHCKIDNY', 'SEX', 'MARITAL', 'EDUCA', 'RENTHOM1', 'EMPLOY1',\n",
       "       'QSTVER', '_STSTR', '_RAWRAKE', '_WT2RAKE', '_DUALUSE', '_LLCPWT',\n",
       "       '_RFHLTH', '_HCVU651', '_RFHYPE5', '_CHOLCHK', '_LTASTH1',\n",
       "       '_CASTHM1', '_ASTHMS1', '_PRACE1', '_MRACE1', '_HISPANC', '_RACE',\n",
       "       '_RACEG21', '_RACEGR3', '_AGEG5YR', '_AGE65YR', '_AGE80', '_AGE_G',\n",
       "       '_RFBMI5', '_CHLDCNT', '_EDUCAG', '_INCOMG', '_SMOKER3',\n",
       "       '_RFSMOK3', 'DRNKANY5', 'DROCDY3_', '_RFBING5', '_DRNKWEK',\n",
       "       '_RFDRHV5', '_MISFRTN', '_MISVEGN', '_FRTRESP', '_VEGRESP',\n",
       "       '_FRTLT1', '_VEGLT1', '_FRT16', '_VEG23', '_FRUITEX', '_VEGETEX',\n",
       "       '_TOTINDA', 'MAXVO2_', 'FC60_', 'PAMISS1_', '_PACAT1', '_PAINDX1',\n",
       "       '_PA150R2', '_PA300R2', '_PA30021', '_PASTRNG', '_PAREC1',\n",
       "       '_PASTAE1', '_RFSEAT2', '_RFSEAT3'], dtype=object)"
      ]
     },
     "execution_count": 128,
     "metadata": {},
     "output_type": "execute_result"
    }
   ],
   "source": [
    "non_null_columns"
   ]
  },
  {
   "cell_type": "code",
   "execution_count": 153,
   "metadata": {},
   "outputs": [
    {
     "data": {
      "text/plain": [
       "(None, None)"
      ]
     },
     "execution_count": 153,
     "metadata": {},
     "output_type": "execute_result"
    }
   ],
   "source": [
    "test_percentage = 0.7\n",
    "train_length = int(test_percentage*x_tr.shape[0])\n",
    "train_index = np.random.choice(a=np.arange(x_tr.shape[0]), size=train_length, replace=False)\n",
    "test_index  = np.delete(arr=np.arange(x_tr.shape[0]), obj=train_index)\n",
    "\n",
    "train_index.sort(), test_index.sort()"
   ]
  },
  {
   "cell_type": "code",
   "execution_count": 155,
   "metadata": {},
   "outputs": [],
   "source": [
    "new_x_tr = x_tr.iloc[train_index]\n",
    "new_x_te = x_tr.iloc[test_index]\n",
    "new_y_tr = y_tr.iloc[train_index]\n",
    "new_y_te = y_tr.iloc[train_index]"
   ]
  },
  {
   "cell_type": "code",
   "execution_count": 162,
   "metadata": {},
   "outputs": [
    {
     "data": {
      "text/plain": [
       "Index(['_STATE', 'FMONTH', 'IDATE', 'IMONTH', 'IDAY', 'IYEAR', 'DISPCODE',\n",
       "       'SEQNO', '_PSU', 'CTELENUM',\n",
       "       ...\n",
       "       '_PAREC1', '_PASTAE1', '_LMTACT1', '_LMTWRK1', '_LMTSCL1', '_RFSEAT2',\n",
       "       '_RFSEAT3', '_FLSHOT6', '_PNEUMO2', '_AIDTST3'],\n",
       "      dtype='object', length=321)"
      ]
     },
     "execution_count": 162,
     "metadata": {},
     "output_type": "execute_result"
    }
   ],
   "source": [
    "x_tr.columns"
   ]
  },
  {
   "cell_type": "code",
   "execution_count": 61,
   "metadata": {},
   "outputs": [
    {
     "data": {
      "text/plain": [
       "<bound method DataFrame.corr of         _STATE  FMONTH     IDATE  IMONTH  IDAY  IYEAR  DISPCODE       SEQNO  \\\n",
       "0           53      11  11162015      11    16   2015      1100  2015015629   \n",
       "1           33      12  12152015      12    15   2015      1200  2015004387   \n",
       "2           20      10  10202015      10    20   2015      1100  2015005638   \n",
       "3           42       6   6182015       6    18   2015      1100  2015004694   \n",
       "4           24      11  11062015      11     6   2015      1100  2015004673   \n",
       "...        ...     ...       ...     ...   ...    ...       ...         ...   \n",
       "328130      49       7  11232015      11    23   2015      1100  2015006796   \n",
       "328131      51       5   6082015       6     8   2015      1100  2015006482   \n",
       "328132      39      10  10202015      10    20   2015      1100  2015004898   \n",
       "328133      33      12  12302015      12    30   2015      1100  2015004449   \n",
       "328134      32       9   9122015       9    12   2015      1100  2015001176   \n",
       "\n",
       "              _PSU  MENTHLTH  ...  _PACAT1  _PAINDX1  _PA150R2  _PA300R2  \\\n",
       "0       2015015629         5  ...        2         1         1         2   \n",
       "1       2015004387        88  ...        9         9         9         9   \n",
       "2       2015005638        77  ...        3         2         2         2   \n",
       "3       2015004694        88  ...        1         1         1         1   \n",
       "4       2015004673        88  ...        9         9         9         9   \n",
       "...            ...       ...  ...      ...       ...       ...       ...   \n",
       "328130  2015006796        88  ...        2         1         1         2   \n",
       "328131  2015006482        88  ...        1         1         1         1   \n",
       "328132  2015004898         1  ...        3         2         2         2   \n",
       "328133  2015004449        88  ...        3         2         2         2   \n",
       "328134  2015001176         7  ...        9         9         9         9   \n",
       "\n",
       "        _PA30021  _PASTRNG  _PAREC1  _PASTAE1  _RFSEAT2  _RFSEAT3  \n",
       "0              2         1        1         1         1         1  \n",
       "1              9         9        9         9         9         9  \n",
       "2              2         2        4         2         1         1  \n",
       "3              1         2        2         2         1         1  \n",
       "4              9         2        9         9         1         1  \n",
       "...          ...       ...      ...       ...       ...       ...  \n",
       "328130         2         2        2         2         1         1  \n",
       "328131         1         1        1         1         1         1  \n",
       "328132         2         1        3         2         1         2  \n",
       "328133         2         1        3         2         1         1  \n",
       "328134         9         1        9         9         1         1  \n",
       "\n",
       "[328135 rows x 82 columns]>"
      ]
     },
     "execution_count": 61,
     "metadata": {},
     "output_type": "execute_result"
    }
   ],
   "source": [
    "first_training_set = x_tr[non_null_columns.index.values]\n",
    "first_training_set.corr"
   ]
  },
  {
   "cell_type": "code",
   "execution_count": 106,
   "metadata": {},
   "outputs": [
    {
     "data": {
      "text/plain": [
       "_STATE      False\n",
       "FMONTH      False\n",
       "IDATE       False\n",
       "IMONTH      False\n",
       "IDAY        False\n",
       "            ...  \n",
       "_RFSEAT2    False\n",
       "_RFSEAT3    False\n",
       "_FLSHOT6     True\n",
       "_PNEUMO2     True\n",
       "_AIDTST3     True\n",
       "Length: 321, dtype: bool"
      ]
     },
     "execution_count": 106,
     "metadata": {},
     "output_type": "execute_result"
    }
   ],
   "source": [
    "nan_rows"
   ]
  },
  {
   "cell_type": "code",
   "execution_count": null,
   "metadata": {},
   "outputs": [],
   "source": []
  },
  {
   "cell_type": "code",
   "execution_count": null,
   "metadata": {},
   "outputs": [
    {
     "data": {
      "text/plain": [
       "count    188720.0\n",
       "mean          1.0\n",
       "std           0.0\n",
       "min           1.0\n",
       "25%           1.0\n",
       "50%           1.0\n",
       "75%           1.0\n",
       "max           1.0\n",
       "Name: CTELENUM, dtype: float64"
      ]
     },
     "metadata": {},
     "output_type": "display_data"
    }
   ],
   "source": [
    "x_tr[\"CTELENUM\"].describe()"
   ]
  }
 ],
 "metadata": {
  "kernelspec": {
   "display_name": "base",
   "language": "python",
   "name": "python3"
  },
  "language_info": {
   "codemirror_mode": {
    "name": "ipython",
    "version": 3
   },
   "file_extension": ".py",
   "mimetype": "text/x-python",
   "name": "python",
   "nbconvert_exporter": "python",
   "pygments_lexer": "ipython3",
   "version": "3.10.11"
  },
  "orig_nbformat": 4
 },
 "nbformat": 4,
 "nbformat_minor": 2
}
