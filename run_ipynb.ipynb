{
 "cells": [
  {
   "cell_type": "code",
   "execution_count": 1,
   "metadata": {},
   "outputs": [],
   "source": [
    "import numpy as np\n",
    "import matplotlib.pyplot as plt\n",
    "from implementations import *\n",
    "import os\n",
    "from helpers import *\n",
    "from preprocessing import *\n",
    "import pickle"
   ]
  },
  {
   "cell_type": "code",
   "execution_count": 2,
   "metadata": {},
   "outputs": [],
   "source": [
    "#x_train, x_test, y_train, train_ids, test_ids=load_csv_data(\"data\")"
   ]
  },
  {
   "cell_type": "code",
   "execution_count": 3,
   "metadata": {},
   "outputs": [],
   "source": [
    "DATA_FOLDER = 'data/'"
   ]
  },
  {
   "cell_type": "code",
   "execution_count": 4,
   "metadata": {},
   "outputs": [],
   "source": [
    "try:\n",
    "    with open(DATA_FOLDER + 'x_train.pickle', 'rb') as f:\n",
    "        x_train = pickle.load(f)\n",
    "    with open(DATA_FOLDER + 'x_test.pickle', 'rb') as f:\n",
    "        x_test = pickle.load(f)\n",
    "    with open(DATA_FOLDER + 'y_train.pickle', 'rb') as f:\n",
    "        y_train = pickle.load(f)\n",
    "    with open(DATA_FOLDER + 'test_ids.pickle', 'rb') as f:\n",
    "        test_ids = pickle.load(f)\n",
    "    with open(DATA_FOLDER + 'names_map.pickle', 'rb') as f:\n",
    "        names_map = pickle.load(f)\n",
    "except:\n",
    "    x_train, x_test, y_train, train_ids, test_ids = load_csv_data(DATA_FOLDER, sub_sample=False)\n",
    "\n",
    "    names = np.genfromtxt(DATA_FOLDER + 'x_train.csv', delimiter=\",\", dtype=str, max_rows=1)\n",
    "    names = np.delete(names, 0)\n",
    "    names_map = {}\n",
    "    for i in range(len(names)):\n",
    "        names_map[names[i]] = i\n",
    "\n",
    "    with open(DATA_FOLDER + 'x_train.pickle', 'wb') as f:\n",
    "        pickle.dump(x_train, f)\n",
    "\n",
    "    with open(DATA_FOLDER + 'x_test.pickle', 'wb') as f:\n",
    "        pickle.dump(x_test, f)\n",
    "\n",
    "    with open(DATA_FOLDER + 'y_train.pickle', 'wb') as f:\n",
    "        pickle.dump(y_train, f)\n",
    "\n",
    "    with open(DATA_FOLDER + 'test_ids.pickle', 'wb') as f:\n",
    "        pickle.dump(test_ids, f)\n",
    "    \n",
    "    with open(DATA_FOLDER + 'names_map.pickle', 'wb') as f:\n",
    "        pickle.dump(names_map, f)"
   ]
  },
  {
   "cell_type": "markdown",
   "metadata": {},
   "source": [
    "## Preprocessing and Scalings"
   ]
  },
  {
   "cell_type": "code",
   "execution_count": 5,
   "metadata": {},
   "outputs": [],
   "source": [
    "DATA_FOLDER = 'data/'"
   ]
  },
  {
   "cell_type": "code",
   "execution_count": 6,
   "metadata": {},
   "outputs": [],
   "source": [
    "names = np.genfromtxt(DATA_FOLDER + 'x_train.csv', delimiter=\",\", dtype=str, max_rows=1)\n",
    "names = np.delete(names, 0)\n",
    "names_map = {}\n",
    "for i in range(len(names)):\n",
    "    names_map[names[i]] = i"
   ]
  },
  {
   "cell_type": "code",
   "execution_count": 7,
   "metadata": {},
   "outputs": [],
   "source": [
    "y_train = np.where(y_train == -1, 0, y_train)\n",
    "x_tr = x_train.copy()\n",
    "y_tr = y_train.copy()\n"
   ]
  },
  {
   "cell_type": "code",
   "execution_count": 8,
   "metadata": {},
   "outputs": [],
   "source": [
    "#clean the data and return the cleaned dataset, the y values, the mean and median dictionnaries to use to clean other sets (test set for example)\n",
    "x_tr_clean, y_tr_clean, mean_dico, median_dico,intersting_features = clean_data(names_map, x_tr, y_tr, is_y=True, is_train_data=True)\n",
    "\n",
    "#if we don't have the y values, we use is_y=False.\n",
    "x_test_clean, _, _, _, _ = clean_data(names_map, x_test, y_raw=None, is_y=False, is_train_data=False, mean_dico=mean_dico, median_dico=median_dico)\n",
    "\n",
    "#compute the scaled train dataset and the mean and std used for the scaling\n",
    "x_tr_scaled, train_mean, train_std = scale_data(x_tr_clean, is_train_data=True)\n",
    "\n",
    "#scale the test set using the mean and std computed on the train set\n",
    "x_test_scaled, _, _ = scale_data(x_test_clean, is_train_data=False, train_mean=train_mean, train_std=train_std)"
   ]
  },
  {
   "cell_type": "code",
   "execution_count": 9,
   "metadata": {},
   "outputs": [
    {
     "data": {
      "text/plain": [
       "(328135, 321)"
      ]
     },
     "execution_count": 9,
     "metadata": {},
     "output_type": "execute_result"
    }
   ],
   "source": [
    "x_tr_scaled.shape"
   ]
  },
  {
   "cell_type": "markdown",
   "metadata": {},
   "source": [
    "## Feature selection"
   ]
  },
  {
   "cell_type": "markdown",
   "metadata": {},
   "source": [
    "We chose some initial features by reading the report and assessing how they seemed relevant for our predictions."
   ]
  },
  {
   "cell_type": "code",
   "execution_count": 10,
   "metadata": {},
   "outputs": [],
   "source": [
    "intersting_features_indexes=np.array([names_map[feature] for feature in intersting_features])"
   ]
  },
  {
   "cell_type": "code",
   "execution_count": 14,
   "metadata": {},
   "outputs": [],
   "source": [
    "X_train=x_tr_scaled[:,intersting_features_indexes]\n",
    "X_test=x_test_scaled[:,intersting_features_indexes]"
   ]
  },
  {
   "cell_type": "code",
   "execution_count": 15,
   "metadata": {},
   "outputs": [
    {
     "data": {
      "text/plain": [
       "array([], dtype=int64)"
      ]
     },
     "execution_count": 15,
     "metadata": {},
     "output_type": "execute_result"
    }
   ],
   "source": [
    "np.unique(np.where(np.isnan(X_train))[1])"
   ]
  },
  {
   "cell_type": "code",
   "execution_count": 16,
   "metadata": {},
   "outputs": [
    {
     "data": {
      "text/plain": [
       "(86,)"
      ]
     },
     "execution_count": 16,
     "metadata": {},
     "output_type": "execute_result"
    }
   ],
   "source": [
    "intersting_features_indexes.shape"
   ]
  },
  {
   "cell_type": "markdown",
   "metadata": {},
   "source": [
    "#### By correlation with the output"
   ]
  },
  {
   "cell_type": "code",
   "execution_count": 17,
   "metadata": {},
   "outputs": [],
   "source": [
    "# import seaborn  as sns\n",
    "\n",
    "# plt.figure(figsize=(10,6))\n",
    "# sns.heatmap(correlations,annot=False)"
   ]
  },
  {
   "cell_type": "code",
   "execution_count": 24,
   "metadata": {},
   "outputs": [],
   "source": [
    "selected_features_names=intersting_features[:18]"
   ]
  },
  {
   "cell_type": "code",
   "execution_count": 21,
   "metadata": {},
   "outputs": [
    {
     "data": {
      "text/plain": [
       "(109379, 86)"
      ]
     },
     "execution_count": 21,
     "metadata": {},
     "output_type": "execute_result"
    }
   ],
   "source": [
    "X_test.shape"
   ]
  },
  {
   "cell_type": "code",
   "execution_count": 22,
   "metadata": {},
   "outputs": [],
   "source": [
    "X_train=X_train[:,np.arange(18)]\n",
    "X_test=X_test[:,np.arange(18)]"
   ]
  },
  {
   "cell_type": "markdown",
   "metadata": {},
   "source": [
    "#### Build polynomial expension and interaction features"
   ]
  },
  {
   "cell_type": "code",
   "execution_count": 23,
   "metadata": {},
   "outputs": [
    {
     "data": {
      "text/plain": [
       "(328135, 18)"
      ]
     },
     "execution_count": 23,
     "metadata": {},
     "output_type": "execute_result"
    }
   ],
   "source": [
    "X_train.shape"
   ]
  },
  {
   "cell_type": "code",
   "execution_count": 25,
   "metadata": {},
   "outputs": [],
   "source": [
    "X_train_poly,features_names=build_poly_expension_with_interaction_features(X_train,features_names=selected_features_names,max_degree=3)\n",
    "X_test_poly,features_names=build_poly_expension_with_interaction_features(X_test,features_names=selected_features_names,max_degree=3)"
   ]
  },
  {
   "cell_type": "code",
   "execution_count": 26,
   "metadata": {},
   "outputs": [
    {
     "data": {
      "text/plain": [
       "(328135, 207)"
      ]
     },
     "execution_count": 26,
     "metadata": {},
     "output_type": "execute_result"
    }
   ],
   "source": [
    "X_train_poly.shape"
   ]
  },
  {
   "cell_type": "code",
   "execution_count": 27,
   "metadata": {},
   "outputs": [
    {
     "data": {
      "text/plain": [
       "(array([], dtype=int64), array([], dtype=int64))"
      ]
     },
     "execution_count": 27,
     "metadata": {},
     "output_type": "execute_result"
    }
   ],
   "source": [
    "np.where(np.isnan(X_train_poly))"
   ]
  },
  {
   "cell_type": "code",
   "execution_count": 28,
   "metadata": {},
   "outputs": [],
   "source": [
    "X_train_poly, train_mean_poly, train_std_poly=scale_data(X_train_poly,is_train_data=True)\n",
    "X_test_poly,_,_=scale_data(X_test_poly,is_train_data=False,train_mean=train_mean_poly,train_std=train_std_poly)"
   ]
  },
  {
   "cell_type": "code",
   "execution_count": null,
   "metadata": {},
   "outputs": [
    {
     "data": {
      "text/plain": [
       "(328135, 207)"
      ]
     },
     "execution_count": 24,
     "metadata": {},
     "output_type": "execute_result"
    }
   ],
   "source": [
    "X_train_poly.shape"
   ]
  },
  {
   "cell_type": "markdown",
   "metadata": {},
   "source": [
    "#### Again selecting features with correlation with the outcome y"
   ]
  },
  {
   "cell_type": "code",
   "execution_count": null,
   "metadata": {},
   "outputs": [],
   "source": [
    "np.corrcoef(np.hstack(X_train_poly, y_train.reshape(-1,1)))[:,len(y)]"
   ]
  },
  {
   "cell_type": "markdown",
   "metadata": {},
   "source": [
    "#### Ridge regression"
   ]
  },
  {
   "cell_type": "code",
   "execution_count": 29,
   "metadata": {},
   "outputs": [
    {
     "data": {
      "text/plain": [
       "array([[-7.89478099e-01, -1.26864627e-01, -2.77479888e-01, ...,\n",
       "        -3.06623340e-03, -5.62366465e-03,  1.51645339e-02],\n",
       "       [-1.01629713e-15, -3.36757191e-01, -2.33028204e-01, ...,\n",
       "        -1.22971865e-02, -1.49412452e-02, -2.40876265e-02],\n",
       "       [-7.89478099e-01, -1.26864627e-01, -2.77479888e-01, ...,\n",
       "         1.87156946e-02,  1.40772764e-02,  1.20019247e-02],\n",
       "       ...,\n",
       "       [-7.89478099e-01, -1.26864627e-01, -2.77479888e-01, ...,\n",
       "        -1.20076300e-02, -1.47744741e-02,  5.38062173e-02],\n",
       "       [-1.01629713e-15, -3.36757191e-01, -2.33028204e-01, ...,\n",
       "         3.64296914e-02,  1.01755335e-02,  3.15014222e-02],\n",
       "       [-4.87532670e-01, -2.56714012e-01, -2.43496576e-01, ...,\n",
       "         2.86653734e-01,  3.12581216e-01,  9.52659973e-01]])"
      ]
     },
     "execution_count": 29,
     "metadata": {},
     "output_type": "execute_result"
    }
   ],
   "source": [
    "X_train_poly"
   ]
  },
  {
   "cell_type": "code",
   "execution_count": 31,
   "metadata": {},
   "outputs": [
    {
     "name": "stdout",
     "output_type": "stream",
     "text": [
      "(0.3535980148883375, 0.009836065573770493, 0.01913971995567644)\n"
     ]
    }
   ],
   "source": [
    "w_opt,loss=ridge_regression(y_tr_clean,X_train_poly,lambda_=0.01)\n",
    "print(compute_scores_linear_model(X_train_poly,w_opt,y=y_tr_clean,threshold=0.3,apply_sigmoid=False))\n",
    "thr_l=np.arange(-0.5,0.7,0.02)\n",
    "for lambda_ in [0.001,0.01,0.1,0.3]:\n",
    "    w_opt,loss=ridge_regression(y_tr_clean,X_train_poly,lambda_=lambda_)\n",
    "    \n",
    "    f1_scores=[compute_scores_linear_model(X_train_poly,w_opt,y_tr_clean,threshold=t,apply_sigmoid=False)[2] for t in thr_l]\n",
    "    plt.plot(thr_l,f1_scores,marker='o',label=str(lambda_))\n",
    "    plt.xlabel(\"threshold\")\n",
    "    plt.ylabel(\"f1-score\")\n",
    "plt.legend(title=\"$\\\\lambda$ value\")\n",
    "plt.title(\"Ridge regression results\")\n",
    "plt.show()"
   ]
  }
 ],
 "metadata": {
  "kernelspec": {
   "display_name": "base",
   "language": "python",
   "name": "python3"
  },
  "language_info": {
   "codemirror_mode": {
    "name": "ipython",
    "version": 3
   },
   "file_extension": ".py",
   "mimetype": "text/x-python",
   "name": "python",
   "nbconvert_exporter": "python",
   "pygments_lexer": "ipython3",
   "version": "3.8.18"
  }
 },
 "nbformat": 4,
 "nbformat_minor": 2
}
