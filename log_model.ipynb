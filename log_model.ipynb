{
 "cells": [
  {
   "cell_type": "code",
   "execution_count": 94,
   "metadata": {},
   "outputs": [],
   "source": [
    "import numpy as np\n",
    "import matplotlib.pyplot as plt\n",
    "import pickle\n",
    "import matplotlib.pyplot as plt\n",
    "from implementations import *\n",
    "import os\n",
    "import csv\n",
    "from helpers import *"
   ]
  },
  {
   "cell_type": "code",
   "execution_count": 95,
   "metadata": {},
   "outputs": [],
   "source": [
    "DATA_FOLDER = 'data/'"
   ]
  },
  {
   "cell_type": "code",
   "execution_count": 96,
   "metadata": {},
   "outputs": [],
   "source": [
    "try:\n",
    "    with open(DATA_FOLDER + 'x_train.pickle', 'rb') as f:\n",
    "        x_train = pickle.load(f)\n",
    "    with open(DATA_FOLDER + 'x_test.pickle', 'rb') as f:\n",
    "        x_test = pickle.load(f)\n",
    "    with open(DATA_FOLDER + 'y_train.pickle', 'rb') as f:\n",
    "        y_train = pickle.load(f)\n",
    "    with open(DATA_FOLDER + 'test_ids.pickle', 'rb') as f:\n",
    "        test_ids = pickle.load(f)\n",
    "except:\n",
    "    x_train, x_test, y_train, train_ids, test_ids = load_csv_data(DATA_FOLDER, sub_sample=False)\n",
    "\n",
    "    names = np.genfromtxt(DATA_FOLDER + 'x_train.csv', delimiter=\",\", dtype=str, max_rows=1)\n",
    "    names = np.delete(names, 0)\n",
    "    names_map = {}\n",
    "    for i in range(len(names)):\n",
    "        names_map[names[i]] = i\n",
    "\n",
    "    with open(DATA_FOLDER + 'x_train.pickle', 'wb') as f:\n",
    "        pickle.dump(x_train, f)\n",
    "\n",
    "    with open(DATA_FOLDER + 'x_test.pickle', 'wb') as f:\n",
    "        pickle.dump(x_test, f)\n",
    "\n",
    "    with open(DATA_FOLDER + 'y_train.pickle', 'wb') as f:\n",
    "        pickle.dump(y_train, f)\n",
    "\n",
    "    with open(DATA_FOLDER + 'test_ids.pickle', 'wb') as f:\n",
    "        pickle.dump(test_ids, f)"
   ]
  },
  {
   "cell_type": "code",
   "execution_count": 97,
   "metadata": {},
   "outputs": [],
   "source": [
    "y_train = np.where(y_train == -1, 0, y_train)"
   ]
  },
  {
   "cell_type": "code",
   "execution_count": 98,
   "metadata": {},
   "outputs": [],
   "source": [
    "x_tr = x_train.copy()\n",
    "y_tr = y_train.copy()"
   ]
  },
  {
   "cell_type": "markdown",
   "metadata": {},
   "source": [
    "# Pre-processing"
   ]
  },
  {
   "cell_type": "code",
   "execution_count": 99,
   "metadata": {},
   "outputs": [],
   "source": [
    "#Converting the weights to kg, and asigning lacking answers to NaN\n",
    "array = x_tr[:, names_map[\"WEIGHT2\"]]\n",
    "pounds_indices  = np.where(((array >= 50)*(array <= 999))==True)\n",
    "kg_indices      = np.where(((array >= 9000)*(array <= 9998))==True)\n",
    "none_indices    = np.where(((array == 7777) + (array == 9998))==True)\n",
    "\n",
    "x_tr[:, names_map[\"WEIGHT2\"]][pounds_indices] = 0.453592 * x_tr[:, names_map[\"WEIGHT2\"]][pounds_indices]\n",
    "x_tr[:, names_map[\"WEIGHT2\"]][kg_indices] = x_tr[:, names_map[\"WEIGHT2\"]][kg_indices]%9000\n",
    "x_tr[:, names_map[\"WEIGHT2\"]][none_indices] = np.nan"
   ]
  },
  {
   "cell_type": "code",
   "execution_count": 100,
   "metadata": {},
   "outputs": [],
   "source": [
    "#converting the height to meters, and asigning lacking answers to NaN\n",
    "array = x_tr[:, names_map[\"HEIGHT3\"]]\n",
    "imperial_indices    = np.where(((array >= 200)*(array <= 711))==True)\n",
    "cm_indices          = np.where(((array >= 9000)*(array <= 9998))==True)\n",
    "none_indices        = np.where((array == 9998)==True)\n",
    "\n",
    "x_tr[:, names_map[\"HEIGHT3\"]][imperial_indices] = 0.3048 * x_tr[:, names_map[\"HEIGHT3\"]][imperial_indices]//100 + 0.0254 * x_tr[:, names_map[\"HEIGHT3\"]][imperial_indices]%100\n",
    "x_tr[:, names_map[\"HEIGHT3\"]][cm_indices] = x_tr[:, names_map[\"HEIGHT3\"]][cm_indices]%9000\n",
    "x_tr[:, names_map[\"HEIGHT3\"]][none_indices] = np.nan"
   ]
  },
  {
   "cell_type": "code",
   "execution_count": 101,
   "metadata": {},
   "outputs": [],
   "source": [
    "#converting FLSHTMY2 to months, and asigning lacking answers to NaN\n",
    "array = x_tr[:, names_map[\"FLSHTMY2\"]]\n",
    "none_indices = np.where(((array == 777777) + (array == 999999))==True)\n",
    "days_indices = np.where(((array >= 12014)*(array <= 122015))==True)\n",
    "\n",
    "x_tr[:, names_map[\"FLSHTMY2\"]][none_indices] = np.nan\n",
    "x_tr[:, names_map[\"FLSHTMY2\"]][days_indices] = x_tr[:, names_map[\"FLSHTMY2\"]][days_indices]//10000 + 12*x_tr[:, names_map[\"FLSHTMY2\"]][days_indices]%10000"
   ]
  },
  {
   "cell_type": "code",
   "execution_count": 102,
   "metadata": {},
   "outputs": [],
   "source": [
    "#define a few functions used to clean and scale the data properly\n",
    "def frequency_scaler(df, col):\n",
    "    \n",
    "    times_per_day   = np.where(((df[:, names_map[col]]>=101)*(df[:, names_map[col]]<=199))==True)\n",
    "    times_per_week  = np.where(((df[:, names_map[col]]>=201)*(df[:, names_map[col]]<=299))==True)\n",
    "    times_per_month = np.where(((df[:, names_map[col]]>=301)*(df[:, names_map[col]]<=399))==True)\n",
    "    none_indices    = np.where(((df[:, names_map[col]] == 777) + (df[:, names_map[col]] == 999))==True)\n",
    "\n",
    "    df[:, names_map[col]][times_per_day]                = df[:, names_map[col]][times_per_day]%100\n",
    "    df[:, names_map[col]][times_per_week]               = (df[:, names_map[col]][times_per_week]%200)/7\n",
    "    df[:, names_map[col]][times_per_month]              = (df[:, names_map[col]][times_per_month]%300)/30\n",
    "    df[:, names_map[col]][df[:, names_map[col]]==300]   = 1/30\n",
    "    df[:, names_map[col]][df[:, names_map[col]]==555]   = 0\n",
    "    df[:, names_map[col]][none_indices]                 = np.nan\n",
    "\n",
    "def weekly_frequency_scaler(df, col):\n",
    "    times_per_week  = np.where(((df[:, names_map[col]]>=101)*(df[:, names_map[col]]<=199))==True)\n",
    "    times_per_month = np.where(((df[:, names_map[col]]>=201)*(df[:, names_map[col]]<=299))==True)\n",
    "    none_indices    = np.where(((df[:, names_map[col]] == 777) + (df[:, names_map[col]] == 999))==True)\n",
    "\n",
    "    df[:, names_map[col]][times_per_week]                   = (df[:, names_map[col]][times_per_week]%100)/7\n",
    "    df[:, names_map[col]][times_per_month]                  = (df[:, names_map[col]][times_per_month]%200)/30\n",
    "    df[:, names_map[col]][df[:, names_map[col]]==888]       = 0\n",
    "    df[:, names_map[col]][none_indices]                     = np.nan\n",
    "\n",
    "def hours_to_minutes(df, col):\n",
    "    hour_indices    = np.where(( (df[:, names_map[col]]>=1)*(df[:, names_map[col]]<=759) + (df[:, names_map[col]]>=800)*(df[:, names_map[col]]<=959))==True)\n",
    "    none_indices    = np.where(((df[:, names_map[col]]==777) + (df[:, names_map[col]]==999))==True)\n",
    "    \n",
    "    df[:, names_map[col]][hour_indices] = 60*df[:, names_map[col]][hour_indices]//100 + df[:, names_map[col]][hour_indices]%100                                                 \n",
    "    df[:, names_map[col]][none_indices] = np.nan"
   ]
  },
  {
   "cell_type": "code",
   "execution_count": 103,
   "metadata": {},
   "outputs": [],
   "source": [
    "#fix the frequency scales of the following columns\n",
    "frequency_scaler(x_tr, \"FRUITJU1\")\n",
    "frequency_scaler(x_tr, \"FRUIT1\")\n",
    "frequency_scaler(x_tr, \"FVBEANS\")\n",
    "frequency_scaler(x_tr, \"FVGREEN\")\n",
    "frequency_scaler(x_tr, \"FVORANG\")\n",
    "frequency_scaler(x_tr, \"VEGETAB1\")\n",
    "\n",
    "hours_to_minutes(x_tr, \"EXERHMM1\")\n",
    "hours_to_minutes(x_tr, \"EXERHMM2\")\n",
    "\n",
    "weekly_frequency_scaler(x_tr, \"ALCDAY5\")\n",
    "weekly_frequency_scaler(x_tr, \"EXEROFT1\")\n",
    "weekly_frequency_scaler(x_tr, \"EXEROFT2\")\n",
    "weekly_frequency_scaler(x_tr, \"STRENGTH\")"
   ]
  },
  {
   "cell_type": "code",
   "execution_count": 104,
   "metadata": {},
   "outputs": [],
   "source": [
    "#Transformation hashmap\n",
    "dico_transfos={\"GENHLTH\":{7:np.nan,8:np.nan,9:np.nan},\"POORHLTH\":{88:0,77:np.nan,99:np.nan},\"HLTHPLN1\":{7:np.nan,9:np.nan},\"CHECKUP1\":{8:15,7:np.nan,9:np.nan},\n",
    "               \"BPMEDS\":{7:np.nan,9:np.nan}, \"TOLDHI2\":{7:np.nan,9:np.nan}, \"PHYSHLTH\":{88:0,77:np.nan,99:np.nan},\n",
    "               \"MENTHLTH\":{88:0,77:np.nan,99:np.nan}, \"CVDSTRK3\":{7:np.nan, 9:np.nan}, \"HLTHPLN1\":{9:np.nan}, \"CHCOCNCR\":{7:np.nan, 9:np.nan},\n",
    "               \"HAVARTH3\":{7:np.nan, 9:np.nan}, \"CHCKIDNY\":{7:np.nan, 9:np.nan}, \"DIABETE3\":{7:np.nan, 9:np.nan}, \"CHCCOPD1\":{7:np.nan, 9:np.nan},\n",
    "               \"ASTHMA3\":{7:np.nan, 9:np.nan}, \"ASTHNOW\":{7:np.nan, 9:np.nan}, \"CHCSCNCR\":{7:np.nan, 9:np.nan}, \"ADDEPEV2\":{7:np.nan, 9:np.nan},\n",
    "               \"DIABAGE2\":{98:np.nan, 99:np.nan}, \"EDUCA\":{9:np.nan}, \"INCOME2\":{77:np.nan, 99:np.nan}, \"QLACTLM2\":{7:np.nan, 9:np.nan},\n",
    "               \"USEEQUIP\":{7:np.nan, 9:np.nan}, \"BLIND\":{7:np.nan, 9:np.nan}, \"DECIDE\":{7:np.nan, 9:np.nan}, \"DIFFWALK\":{7:np.nan, 9:np.nan},\n",
    "               \"DIFFDRES\":{7:np.nan, 9:np.nan}, \"DIFFALON\":{7:np.nan, 9:np.nan}, \"SMOKE100\":{7:np.nan, 9:np.nan}, \"SMOKDAY2\":{7:np.nan, 9:np.nan},\n",
    "               \"USENOW3\":{7:np.nan, 9:np.nan}, \"AVEDRNK2\":{77:np.nan, 99:np.nan}, \"DRNK3GE5\":{77:np.nan, 88:np.nan, 99:np.nan}, \"MAXDRNKS\":{77:np.nan, 99:np.nan},\n",
    "               \"EXERANY2\":{7:np.nan, 9:np.nan}, \"EXERHMM1\":{777:np.nan, 999:np.nan}, \"SEATBELT\":{7:np.nan, 8:np.nan, 9:np.nan}, \"PNEUVAC3\":{7:np.nan, 9:np.nan},\n",
    "               \"ARTHDIS2\":{7:np.nan, 9:np.nan}, \"ARTHSOCL\":{7:np.nan, 9:np.nan}, \"JOINPAIN\":{77:np.nan, 99:np.nan}, \"ARTHEDU\":{7:np.nan, 9:np.nan}, \"FLUSHOT6\":{7:np.nan, 9:np.nan},\n",
    "               \"DOCTDIAB\":{88:0, 77:np.nan, 99:np.nan}, \"DIABEYE\":{7:np.nan, 9:np.nan}, \"CRGVMST2\":{7:np.nan, 9:np.nan}, \"VIDFCLT2\":{7:np.nan}, \"VIREDIF3\":{7:np.nan},\n",
    "               \"VICTRCT4\":{7:np.nan}, \"VIGLUMA2\":{7:np.nan}, \"VIMACDG2\":{7:np.nan}, \"CIMEMLOS\":{7:np.nan, 9:np.nan}, \"CDSOCIAL\":{7:np.nan, 9:np.nan}, \"DRADVISE\":{7:np.nan, 9:np.nan},\n",
    "               \"ASTHMAGE\":{97:6, 98:np.nan, 99:np.nan}, \"ASERVIST\":{88:0}, \"CVDASPRN\":{7:np.nan, 9:np.nan}, \"RDUCHART\":{7:np.nan, 9:np.nan}, \"ARTHEXER\":{7:2, 9:2},\n",
    "               \"HPVADVC2\":{7:np.nan, 9:np.nan}, \"HPVADSHT\":{77:np.nan, 99:np.nan}, \"PCPSARE1\":{7:np.nan, 9:np.nan}, \"MISTMNT\":{7:np.nan, 9:np.nan},\n",
    "               \"_CHISPNC\":{9:np.nan}, \"_RFCHOL\":{9:np.nan}, \"_LTASTH1\":{9:1}, \"_CASTHM1\":{9:0}, \"_ASTHMS1\":{9:3}, \"_HISPANC\":{9:2}, \"_AGEG5YR\":{14:np.nan}, \"_CHLDCNT\":{9:np.nan},\n",
    "               \"_EDUCAG\":{9:np.nan}, \"_INCOMG\":{9:np.nan}, \"_SMOKER3\":{9:4}, \"_RFSMOK3\":{9:1}, \"DRNKANY5\":{9:1, 7:1}, \"DROCDY3_\":{900:np.nan},\n",
    "               \"_TOTINDA\":{9:np.nan}, \"_LMTSCL1\":{9:np.nan}, \"_RFSEAT2\":{9:0}, \"_PASTRNG\":{9:2}, \"_PACAT1\":{9:2}, \"STRFREQ_\":{99000:np.nan}\n",
    "               }"
   ]
  },
  {
   "cell_type": "code",
   "execution_count": 125,
   "metadata": {},
   "outputs": [],
   "source": [
    "x_tr_temp=x_tr.copy()\n",
    "for col in dico_transfos:\n",
    "    for key in dico_transfos[col].keys():\n",
    "        key_indices = np.where(x_tr_temp[:, names_map[col]]==key)\n",
    "        x_tr_temp[:, names_map[col]][key_indices]=dico_transfos[col][key]"
   ]
  },
  {
   "cell_type": "code",
   "execution_count": null,
   "metadata": {},
   "outputs": [],
   "source": [
    "#function to NaN in a column of a pandas dataframe\n",
    "def replace_nan(dataframe, column, value):\n",
    "    nan_indices = np.where(np.isnan(dataframe[:, names_map[column]]))\n",
    "    dataframe[:, names_map[column]][nan_indices] = value"
   ]
  },
  {
   "cell_type": "code",
   "execution_count": 141,
   "metadata": {},
   "outputs": [
    {
     "data": {
      "text/plain": [
       "nan"
      ]
     },
     "execution_count": 141,
     "metadata": {},
     "output_type": "execute_result"
    }
   ],
   "source": [
    "x_tr[:, names_map[\"CRGVMST2\"]].mean()"
   ]
  },
  {
   "cell_type": "code",
   "execution_count": 142,
   "metadata": {},
   "outputs": [
    {
     "ename": "TypeError",
     "evalue": "Cannot cast array data from dtype('float64') to dtype('int64') according to the rule 'safe'",
     "output_type": "error",
     "traceback": [
      "\u001b[1;31m---------------------------------------------------------------------------\u001b[0m",
      "\u001b[1;31mTypeError\u001b[0m                                 Traceback (most recent call last)",
      "\u001b[1;32mc:\\Users\\antho\\Desktop\\EPFL\\WHAI\\log_model.ipynb Cell 16\u001b[0m line \u001b[0;36m1\n\u001b[1;32m----> <a href='vscode-notebook-cell:/c%3A/Users/antho/Desktop/EPFL/WHAI/log_model.ipynb#Y220sZmlsZQ%3D%3D?line=0'>1</a>\u001b[0m counts \u001b[39m=\u001b[39m np\u001b[39m.\u001b[39;49mbincount(x_tr[:, names_map[\u001b[39m\"\u001b[39;49m\u001b[39mCRGVMST2\u001b[39;49m\u001b[39m\"\u001b[39;49m]])\n",
      "\u001b[1;31mTypeError\u001b[0m: Cannot cast array data from dtype('float64') to dtype('int64') according to the rule 'safe'"
     ]
    }
   ],
   "source": [
    "counts = np.bincount(x_tr[:, names_map[\"CRGVMST2\"]])"
   ]
  },
  {
   "cell_type": "code",
   "execution_count": 158,
   "metadata": {},
   "outputs": [
    {
     "data": {
      "text/plain": [
       "310450"
      ]
     },
     "execution_count": 158,
     "metadata": {},
     "output_type": "execute_result"
    }
   ],
   "source": [
    "np.isnan(x_tr[:, names_map[\"CRGVMST2\"]]).astype(int).sum()"
   ]
  },
  {
   "cell_type": "code",
   "execution_count": 175,
   "metadata": {},
   "outputs": [],
   "source": [
    "#define the means we will use to replace the NaN\n",
    "POORHLTH_mean   = x_tr_temp[:, names_map[\"POORHLTH\"]].mean()\n",
    "PHYSHLTH_mean   = x_tr_temp[:, names_map[\"PHYSHLTH\"]].mean()\n",
    "MENTHLTH_mean   = x_tr_temp[:, names_map[\"MENTHLTH\"]].mean()\n",
    "WEIGHT2_mean    = x_tr_temp[:, names_map[\"WEIGHT2\"]].mean()\n",
    "DIABAGE2_mean   = x_tr_temp[:, names_map[\"DIABAGE2\"]].mean()\n",
    "WEIGHT2_mean    = x_tr_temp[:, names_map[\"WEIGHT2\"]].mean()\n",
    "HEIGHT3_mean    = x_tr_temp[:, names_map[\"HEIGHT3\"]].mean()\n",
    "FRUITJU1_mean   = x_tr_temp[:, names_map[\"FRUITJU1\"]].mean()\n",
    "FRUIT1_mean     = x_tr_temp[:, names_map[\"FRUIT1\"]].mean()\n",
    "FVBEANS_mean    = x_tr_temp[:, names_map[\"FVBEANS\"]].mean()\n",
    "FVGREEN_mean    = x_tr_temp[:, names_map[\"FVGREEN\"]].mean()\n",
    "FVORANG_mean    = x_tr_temp[:, names_map[\"FVORANG\"]].mean()\n",
    "VEGETAB1_mean   = x_tr_temp[:, names_map[\"VEGETAB1\"]].mean()\n",
    "EXERHMM1_mean   = x_tr_temp[:, names_map[\"EXERHMM1\"]].mean()\n",
    "FLSHTMY2_mean   = x_tr_temp[:, names_map[\"FLSHTMY2\"]].mean()\n",
    "FTJUDA1__mean   = x_tr_temp[:, names_map[\"FTJUDA1_\"]].mean()\n",
    "FRUTDA1__mean   = x_tr_temp[:, names_map[\"FRUTDA1_\"]].mean()\n",
    "BEANDAY__mean   = x_tr_temp[:, names_map[\"BEANDAY_\"]].mean()\n",
    "GRENDAY__mean   = x_tr_temp[:, names_map[\"GRENDAY_\"]].mean()\n",
    "ORNGDAY__mean   = x_tr_temp[:, names_map[\"ORNGDAY_\"]].mean()\n",
    "VEGEDA1__mean   = x_tr_temp[:, names_map[\"VEGEDA1_\"]].mean()\n",
    "STRFREQ__mean   = x_tr_temp[:, names_map[\"STRFREQ_\"]].mean()\n",
    "\n",
    "CRGVMST2_value    = x_tr[:, names_map[\"CRGVMST2\"]].value_counts().index[0]\n",
    "VICTRCT4_value    = x_tr[:, names_map[\"VICTRCT4\"]].value_counts().index[0]\n",
    "ARTHEXER_value    = 2\n",
    "HPVADSHT_value    = 0\n",
    "PCPSARE1_value    = 2\n",
    "\n",
    "#define the medians we will use to replace the NaN\n",
    "GENHLTH_median  = x_tr_temp[:, names_map[\"GENHLTH\"]].median()\n",
    "HLTHPLN1_median = x_tr_temp[:, names_map[\"HLTHPLN1\"]].median()\n",
    "CHECKUP1_median = x_tr_temp[:, names_map[\"CHECKUP1\"]].median()\n",
    "BPMEDS_median   = x_tr_temp[:, names_map[\"BPMEDS\"]].median()\n",
    "TOLDHI2_median  = x_tr_temp[:, names_map[\"TOLDHI2\"]].median()\n",
    "CVDSTRK3_median = x_tr_temp[:, names_map[\"CVDSTRK3\"]].median()\n",
    "CHCKIDNY_median = x_tr_temp[:, names_map[\"CHCKIDNY\"]].median()\n",
    "CHCOCNCR_median = x_tr_temp[:, names_map[\"CHCOCNCR\"]].median()\n",
    "HAVARTH3_median = x_tr_temp[:, names_map[\"HAVARTH3\"]].median()\n",
    "DIABETE3_median = x_tr_temp[:, names_map[\"DIABETE3\"]].median()\n",
    "CHCCOPD1_median = x_tr_temp[:, names_map[\"CHCCOPD1\"]].median()\n",
    "ASTHMA3_median  = x_tr_temp[:, names_map[\"ASTHMA3\"]].median()\n",
    "ASTHNOW_median  = x_tr_temp[:, names_map[\"ASTHNOW\"]].median()\n",
    "CHCSCNCR_median = x_tr_temp[:, names_map[\"CHCSCNCR\"]].median()\n",
    "ADDEPEV2_median = x_tr_temp[:, names_map[\"ADDEPEV2\"]].median()\n",
    "EDUCA_median    = x_tr_temp[:, names_map[\"EDUCA\"]].median()\n",
    "INCOME2_median  = x_tr_temp[:, names_map[\"INCOME2\"]].median()\n",
    "QLACTLM2_median = x_tr_temp[:, names_map[\"QLACTLM2\"]].median()\n",
    "USEEQUIP_median = x_tr_temp[:, names_map[\"USEEQUIP\"]].median()\n",
    "BLIND_median    = x_tr_temp[:, names_map[\"BLIND\"]].median()\n",
    "DECIDE_median   = x_tr_temp[:, names_map[\"DECIDE\"]].median()\n",
    "DIFFWALK_median = x_tr_temp[:, names_map[\"DIFFWALK\"]].median()\n",
    "DIFFDRES_median = x_tr_temp[:, names_map[\"DIFFDRES\"]].median()\n",
    "DIFFALON_median = x_tr_temp[:, names_map[\"DIFFALON\"]].median()\n",
    "SMOKE100_median = x_tr_temp[:, names_map[\"SMOKE100\"]].median()\n",
    "SMOKDAY2_median = x_tr_temp[:, names_map[\"SMOKDAY2\"]].median()\n",
    "USENOW3_median  = x_tr_temp[:, names_map[\"USENOW3\"]].median()\n",
    "ALCDAY5_median  = x_tr_temp[:, names_map[\"ALCDAY5\"]].median()\n",
    "AVEDRNK2_median = x_tr_temp[:, names_map[\"AVEDRNK2\"]].median()\n",
    "DRNK3GE5_median = x_tr_temp[:, names_map[\"DRNK3GE5\"]].median()\n",
    "MAXDRNKS_median = x_tr_temp[:, names_map[\"MAXDRNKS\"]].median()\n",
    "EXERANY2_median = x_tr_temp[:, names_col[\"EXERANY2\"]].median()\n",
    "SEATBELT_median = x_tr_temp[:, names_col[\"SEATBELT\"]].median()\n",
    "PNEUVAC3_median = x_tr_temp[:, names_col[\"PNEUVAC3\"]].median()\n",
    "VIDFCLT2_median = x_tr_temp[:, names_col[\"VIDFCLT2\"]].median()\n",
    "_BMI5_median    = x_tr_temp[:, names_col[\"_BMI5\"]].median()\n",
    "MSCODE_median   = x_tr_temp[:, names_col[\"MSCODE\"]].median()\n",
    "ARTHEDU_median  = x_tr_temp[:, names_col[\"ARTHEDU\"]].median()\n",
    "_INCOMG_median  = x_tr_temp[:, names_col[\"_INCOMG\"]].median()\n",
    "_EDUCAG_median  = x_tr_temp[:, names_col[\"_EDUCAG\"]].median()\n",
    "_RFCHOL_median  = x_tr_temp[:, names_col[\"_RFCHOL\"]].median()\n",
    "MISTMNT_median  = x_tr_temp[:, names_col[\"MISTMNT\"]].median()\n",
    "DIABEYE_median  = x_tr_temp[:, names_col[\"DIABEYE\"]].median()\n",
    "ARTHDIS2_median = x_tr_temp[:, names_col[\"ARTHDIS2\"]].median()\n",
    "ARTHSOCL_median = x_tr_temp[:, names_col[\"ARTHSOCL\"]].median()\n",
    "JOINPAIN_median = x_tr_temp[:, names_col[\"JOINPAIN\"]].median()\n",
    "FLUSHOT6_median = x_tr_temp[:, names_col[\"FLUSHOT6\"]].median()\n",
    "DOCTDIAB_median = x_tr_temp[:, names_col[\"DOCTDIAB\"]].median()\n",
    "VIREDIF3_median = x_tr_temp[:, names_col[\"VIREDIF3\"]].median()\n",
    "VIGLUMA2_median = x_tr_temp[:, names_col[\"VIGLUMA2\"]].median()\n",
    "VIMACDG2_median = x_tr_temp[:, names_col[\"VIMACDG2\"]].median()\n",
    "CIMEMLOS_median = x_tr_temp[:, names_col[\"CIMEMLOS\"]].median()\n",
    "CDSOCIAL_median = x_tr_temp[:, names_col[\"CDSOCIAL\"]].median()\n",
    "DRADVISE_median = x_tr_temp[:, names_col[\"DRADVISE\"]].median()\n",
    "HPVADVC2_median = x_tr_temp[:, names_col[\"HPVADVC2\"]].median()\n",
    "_CHISPNC_median = x_tr_temp[:, names_col[\"_CHISPNC\"]].median()\n",
    "_DRDXAR1_median = x_tr_temp[:, names_col[\"_DRDXAR1\"]].median()\n",
    "_AGEG5YR_median = x_tr_temp[:, names_col[\"_AGEG5YR\"]].median()\n",
    "DROCDY3__median = x_tr_temp[:, names_col[\"DROCDY3_\"]].median()\n",
    "_CHLDCNT_median = x_tr_temp[:, names_col[\"_CHLDCNT\"]].median()\n",
    "_TOTINDA_median = x_tr_temp[:, names_col[\"_TOTINDA\"]].median()\n",
    "_LMTSCL1_median = x_tr_temp[:, names_col[\"_LMTSCL1\"]].median()\n",
    "\n",
    "\n",
    "#list of features to replace NaN with the mean\n",
    "mean_features   = [\"POORHLTH\", \"PHYSHLTH\", \"MENTHLTH\", \"WEIGHT2\", \"DIABAGE2\", \"WEIGHT2\", \"HEIGHT3\", \"FRUITJU1\", \"FRUIT1\", \"FVBEANS\", \"FVGREEN\", \"FVORANG\", \"VEGETAB1\",\n",
    "                   \"EXERHMM1\", \"FLSHTMY2\", \"FTJUDA1_\", \"FRUTDA1_\", \"BEANDAY_\", \"GRENDAY_\", \"ORNGDAY_\", \"VEGEDA1_\", \"STRFREQ_\"]\n",
    "\n",
    "#list of features to replace NaN with the median\n",
    "median_features = [\"GENHLTH\", \"HLTHPLN1\", \"CHECKUP1\", \"BPMEDS\", \"TOLDHI2\", \"CVDSTRK3\", \"CHCKIDNY\", \"CHCOCNCR\", \"HAVARTH3\", \"DIABETE3\", \"CHCCOPD1\", \"ASTHMA3\", \"ASTHNOW\", \"CHCSCNCR\",\n",
    "                   \"ADDEPEV2\", \"EDUCA\", \"INCOME2\", \"QLACTLM2\", \"USEEQUIP\", \"BLIND\", \"DECIDE\", \"DIFFWALK\", \"DIFFDRES\", \"DIFFALON\", \"SMOKE100\", \"SMOKDAY2\", \"USENOW3\", \"ALCDAY5\", \"AVEDRNK2\",\n",
    "                   \"DRNK3GE5\", \"MAXDRNKS\", \"EXERANY2\", \"SEATBELT\", \"PNEUVAC3\", \"ARTHDIS2\", \"ARTHSOCL\", \"JOINPAIN\", \"FLUSHOT6\", \"DOCTDIAB\", \"VIREDIF3\", \"VIGLUMA2\", \"VIMACDG2\", \"CIMEMLOS\",\n",
    "                   \"CDSOCIAL\", \"DRADVISE\", \"HPVADVC2\", \"_CHISPNC\", \"_DRDXAR1\", \"_AGEG5YR\", \"DROCDY3_\", \"_CHLDCNT\", \"_TOTINDA\", \"_LMTSCL1\", \"ARTHEDU\", \"_INCOMG\", \"_EDUCAG\", \"_RFCHOL\", \n",
    "                   \"MISTMNT\", \"DIABEYE\", \"_BMI5\"]\n",
    "\n",
    "#list of specific features\n",
    "value_features  = [\"CRGVMST2\", \"VICTRCT4\", \"ARTHEXER\", \"HPVADSHT\", \"PCPSARE1\"]\n",
    "\n",
    "def replace_nan_by_mean(dataframe, col):\n",
    "    replace_nan(dataframe, feature, dataframe[:, names_map[feature]].mean())\n",
    "\n",
    "def replace_nan_by_median(dataframe, col):\n",
    "    replace_nan(dataframe, feature, dataframe[:, names_map[feature]].median())\n",
    "\n",
    "\n",
    "#replace the NaN with the mean\n",
    "for feature in mean_features:\n",
    "    replace_nan_by_mean(x_tr_temp, feature)\n",
    "\n",
    "#replace the NaN with the median\n",
    "for feature in median_features:\n",
    "    replace_nan_by_median(x_tr_temp, feature)\n",
    "\n",
    "#replace the NaN with a specific value\n",
    "for feature in value_features:\n",
    "    replace_nan(x_tr_temp, feature, eval(feature + \"_value\"))"
   ]
  },
  {
   "cell_type": "code",
   "execution_count": 177,
   "metadata": {},
   "outputs": [],
   "source": [
    "x_tr_cleaned=x_tr[intresting_features].copy()\n",
    "fill_mean=False\n",
    "if fill_mean:\n",
    "    for col in intresting_features:\n",
    "        x_tr_cleaned[col]=x_tr_cleaned[col].fillna(x_tr_cleaned[col].mean())\n",
    "else:\n",
    "    x_tr_cleaned=x_tr.fillna(0).copy()\n",
    "#x_tr_cleaned=x_tr2.fillna(0).copy()\n",
    "y_tr_cleaned=y_tr.copy()\n",
    "# x_tr_cleaned=x_tr[intresting_features+[\"Id\"]].dropna()\n",
    "# not_na_ids=x_tr_cleaned[\"Id\"].values\n",
    "# y_tr_cleaned=y_tr.loc[y_tr[\"Id\"].isin(not_na_ids)]\n",
    "# x_tr_cleaned=x_tr_cleaned[intresting_features]\n",
    "y_tr_cleaned=y_tr_cleaned[\"_MICHD\"]\n",
    "y_tr_cleaned.replace({-1:0},inplace=True)"
   ]
  },
  {
   "cell_type": "code",
   "execution_count": null,
   "metadata": {},
   "outputs": [],
   "source": [
    "x_tr_cleaned"
   ]
  },
  {
   "cell_type": "code",
   "execution_count": 178,
   "metadata": {},
   "outputs": [
    {
     "data": {
      "text/plain": [
       "(array([], dtype=int64), array([], dtype=int64))"
      ]
     },
     "execution_count": 178,
     "metadata": {},
     "output_type": "execute_result"
    }
   ],
   "source": [
    "np.where(np.isnan(x_tr_cleaned.values))"
   ]
  },
  {
   "cell_type": "code",
   "execution_count": 180,
   "metadata": {},
   "outputs": [
    {
     "data": {
      "text/plain": [
       "(328135, 322)"
      ]
     },
     "execution_count": 180,
     "metadata": {},
     "output_type": "execute_result"
    }
   ],
   "source": [
    "x_tr_cleaned.shape"
   ]
  },
  {
   "cell_type": "code",
   "execution_count": 75,
   "metadata": {},
   "outputs": [
    {
     "data": {
      "text/plain": [
       "(328135,)"
      ]
     },
     "execution_count": 75,
     "metadata": {},
     "output_type": "execute_result"
    }
   ],
   "source": [
    "y_tr_cleaned.shape"
   ]
  },
  {
   "cell_type": "code",
   "execution_count": 144,
   "metadata": {},
   "outputs": [],
   "source": [
    "x_tra, x_val, y_tra, y_val=split_data(x_tr_cleaned.values,y_tr_cleaned.values.ravel(),ratio=0.75,seed=69)"
   ]
  },
  {
   "cell_type": "code",
   "execution_count": 77,
   "metadata": {},
   "outputs": [],
   "source": [
    "def make_predictions(x,w,threshold,apply_sigmoid):\n",
    "    w2=w.ravel()\n",
    "    y_pred=x.dot(w2.T)\n",
    "    if threshold==None:\n",
    "        threshold=0.5\n",
    "    if apply_sigmoid:\n",
    "        y_pred=sigmoid(y_pred)\n",
    "    y_pred=np.array([0 if prediction<threshold else 1 for prediction in y_pred])\n",
    "    return y_pred"
   ]
  },
  {
   "cell_type": "code",
   "execution_count": 78,
   "metadata": {},
   "outputs": [],
   "source": [
    "def compute_scores(x,w,y,threshold=None,apply_sigmoid=False):\n",
    "    y_pred=make_predictions(x,w,threshold,apply_sigmoid) \n",
    "    TP=np.sum(np.logical_and(y_pred==1,y==1))\n",
    "    FP=np.sum(np.logical_and(y_pred==1,y==0))\n",
    "    FN=np.sum(np.logical_and(y_pred==0,y==1))\n",
    "    precision=TP/(TP+FP)\n",
    "    recall=TP/(TP+FN)\n",
    "    f1=2*precision*recall/(precision+recall)\n",
    "    return precision,recall,f1\n",
    "    "
   ]
  },
  {
   "cell_type": "code",
   "execution_count": 147,
   "metadata": {},
   "outputs": [],
   "source": [
    "x_tra_scaled=(x_tra-np.mean(x_tra,axis=0)[None,:])/np.std(x_tra,axis=0)\n",
    "x_val_scaled=(x_val-np.mean(x_tra,axis=0)[None,:])/np.std(x_tra,axis=0)"
   ]
  },
  {
   "cell_type": "code",
   "execution_count": 80,
   "metadata": {},
   "outputs": [
    {
     "data": {
      "text/plain": [
       "(246101,)"
      ]
     },
     "execution_count": 80,
     "metadata": {},
     "output_type": "execute_result"
    }
   ],
   "source": [
    "y_tra.shape"
   ]
  },
  {
   "cell_type": "code",
   "execution_count": 89,
   "metadata": {},
   "outputs": [
    {
     "data": {
      "text/plain": [
       "(246101, 20)"
      ]
     },
     "execution_count": 89,
     "metadata": {},
     "output_type": "execute_result"
    }
   ],
   "source": [
    "x_tra_scaled.shape"
   ]
  },
  {
   "cell_type": "code",
   "execution_count": 114,
   "metadata": {},
   "outputs": [
    {
     "data": {
      "text/plain": [
       "array([0, 1, 0, ..., 0, 0, 0], dtype=int64)"
      ]
     },
     "execution_count": 114,
     "metadata": {},
     "output_type": "execute_result"
    }
   ],
   "source": [
    "y_tra"
   ]
  },
  {
   "cell_type": "code",
   "execution_count": 149,
   "metadata": {},
   "outputs": [],
   "source": [
    "w_opt,loss=logistic_regression(y_tra,x_tra_scaled,initial_w=np.zeros((x_tra.shape[1],1)),max_iters=15,gamma=0.2,gd=True)"
   ]
  },
  {
   "cell_type": "code",
   "execution_count": 150,
   "metadata": {},
   "outputs": [
    {
     "data": {
      "text/plain": [
       "{'GENHLTH': 0.09549855667452836,\n",
       " 'POORHLTH': 0.0316379372319835,\n",
       " 'HLTHPLN1': 0.012499321575637693,\n",
       " 'CHECKUP1': -0.01258151614768854,\n",
       " 'BPMEDS': 0.039527755101329144,\n",
       " 'TOLDHI2': 0.0565089410700789,\n",
       " 'CVDSTRK3': 0.07902795810112383,\n",
       " 'LADULT': 0.0020010929778130648,\n",
       " 'PHYSHLTH': 0.05466193587852278,\n",
       " 'MENTHLTH': 0.0029962135514040845,\n",
       " 'CHCOCNCR': 0.02827623086717499,\n",
       " 'CHCCOPD1': 0.08055907615444358,\n",
       " 'HAVARTH3': 0.05788774967329342,\n",
       " 'CHCKIDNY': 0.05643010482106908,\n",
       " 'DIABETE3': -0.058952832969455485,\n",
       " 'SEX': 0.050163913084457785}"
      ]
     },
     "execution_count": 150,
     "metadata": {},
     "output_type": "execute_result"
    }
   ],
   "source": [
    "{intresting_features[k]:w_opt[k][0] for k in range(len(intresting_features))}"
   ]
  },
  {
   "cell_type": "code",
   "execution_count": 158,
   "metadata": {},
   "outputs": [
    {
     "data": {
      "text/plain": [
       "(0.2862346334800425, 0.5282913165266107, 0.37129638743970866)"
      ]
     },
     "execution_count": 158,
     "metadata": {},
     "output_type": "execute_result"
    }
   ],
   "source": [
    "compute_scores(x_val_scaled,w_opt,y_val,threshold=0.58,apply_sigmoid=True)"
   ]
  },
  {
   "cell_type": "code",
   "execution_count": 152,
   "metadata": {},
   "outputs": [
    {
     "data": {
      "text/plain": [
       "[<matplotlib.lines.Line2D at 0x193822946a0>]"
      ]
     },
     "execution_count": 152,
     "metadata": {},
     "output_type": "execute_result"
    },
    {
     "data": {
      "image/png": "[encoded data removed]",
      "text/plain": [
       "<Figure size 640x480 with 1 Axes>"
      ]
     },
     "metadata": {},
     "output_type": "display_data"
    }
   ],
   "source": [
    "thr_l=np.arange(0.3,0.7,0.01)\n",
    "f1_scores=[compute_scores(x_val_scaled,w_opt,y_val,threshold=t,apply_sigmoid=True)[2] for t in thr_l]\n",
    "plt.plot(thr_l,f1_scores,marker='o')"
   ]
  },
  {
   "cell_type": "code",
   "execution_count": 159,
   "metadata": {},
   "outputs": [],
   "source": [
    "np.save(\"w_log_reg_20f_fillnamean.npy\",w_opt)"
   ]
  },
  {
   "cell_type": "markdown",
   "metadata": {},
   "source": [
    "## Submission"
   ]
  },
  {
   "cell_type": "code",
   "execution_count": 25,
   "metadata": {},
   "outputs": [],
   "source": [
    "x_train, x_test, y_train, train_ids, test_ids=load_csv_data(\"data\")"
   ]
  },
  {
   "cell_type": "code",
   "execution_count": 40,
   "metadata": {},
   "outputs": [],
   "source": [
    "x_test=pd.read_csv(\"data/x_test.csv\")"
   ]
  },
  {
   "cell_type": "code",
   "execution_count": 160,
   "metadata": {},
   "outputs": [],
   "source": [
    "x_test2=x_test.copy()\n",
    "fill_mean=True\n",
    "for col in intresting_features:\n",
    "    x_test2[col].replace(dico_transfos[col],inplace=True)\n",
    "\n",
    "        \n",
    "    \n",
    "if fill_mean:\n",
    "    x_test_cleaned=x_test2[intresting_features].copy()\n",
    "    for col in intresting_features:\n",
    "        x_test_cleaned[col]=x_test_cleaned[col].fillna(x_tr_cleaned[col].mean())\n",
    "else:\n",
    "    x_test_cleaned=x_test2[intresting_features].fillna(0).copy()\n",
    "x_test_scaled=(x_test_cleaned-np.mean(x_tra,axis=0)[None,:])/np.std(x_tra,axis=0)"
   ]
  },
  {
   "cell_type": "code",
   "execution_count": 161,
   "metadata": {},
   "outputs": [
    {
     "data": {
      "text/plain": [
       "(109379, 20)"
      ]
     },
     "execution_count": 161,
     "metadata": {},
     "output_type": "execute_result"
    }
   ],
   "source": [
    "x_test_scaled.shape"
   ]
  },
  {
   "cell_type": "code",
   "execution_count": 163,
   "metadata": {},
   "outputs": [],
   "source": [
    "predictions=make_predictions(x_test_scaled,w_opt,threshold=0.58,apply_sigmoid=True)"
   ]
  },
  {
   "cell_type": "code",
   "execution_count": 165,
   "metadata": {},
   "outputs": [
    {
     "data": {
      "text/plain": [
       "(array([    14,     19,     22, ..., 109373, 109375, 109377], dtype=int64),)"
      ]
     },
     "execution_count": 165,
     "metadata": {},
     "output_type": "execute_result"
    }
   ],
   "source": [
    "np.where(predictions==1)"
   ]
  },
  {
   "cell_type": "code",
   "execution_count": 166,
   "metadata": {},
   "outputs": [],
   "source": [
    "predictions[np.where(predictions==0)[0]]=-1"
   ]
  },
  {
   "cell_type": "code",
   "execution_count": 167,
   "metadata": {},
   "outputs": [
    {
     "data": {
      "text/plain": [
       "array([-1, -1, -1, ..., -1,  1, -1])"
      ]
     },
     "execution_count": 167,
     "metadata": {},
     "output_type": "execute_result"
    }
   ],
   "source": [
    "predictions"
   ]
  },
  {
   "cell_type": "code",
   "execution_count": 168,
   "metadata": {},
   "outputs": [],
   "source": [
    "create_csv_submission(test_ids,predictions,name=\"predictionslog20f_fillnamean.csv\")"
   ]
  },
  {
   "cell_type": "code",
   "execution_count": null,
   "metadata": {},
   "outputs": [],
   "source": []
  }
 ],
 "metadata": {
  "kernelspec": {
   "display_name": "base",
   "language": "python",
   "name": "python3"
  },
  "language_info": {
   "codemirror_mode": {
    "name": "ipython",
    "version": 3
   },
   "file_extension": ".py",
   "mimetype": "text/x-python",
   "name": "python",
   "nbconvert_exporter": "python",
   "pygments_lexer": "ipython3",
   "version": "3.11.4"
  }
 },
 "nbformat": 4,
 "nbformat_minor": 2
}
