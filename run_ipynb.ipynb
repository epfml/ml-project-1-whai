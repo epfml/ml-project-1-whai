{
 "cells": [
  {
   "cell_type": "code",
   "execution_count": 1,
   "metadata": {
    "ExecuteTime": {
     "end_time": "2023-10-29T20:42:52.642618600Z",
     "start_time": "2023-10-29T20:42:52.288404700Z"
    }
   },
   "outputs": [],
   "source": [
    "import numpy as np\n",
    "import matplotlib.pyplot as plt\n",
    "from implementations import *\n",
    "import os\n",
    "from helpers import *\n",
    "from preprocessing import *\n",
    "import pickle"
   ]
  },
  {
   "cell_type": "code",
   "execution_count": 2,
   "metadata": {
    "ExecuteTime": {
     "end_time": "2023-10-29T20:42:52.651203600Z",
     "start_time": "2023-10-29T20:42:52.645757100Z"
    }
   },
   "outputs": [],
   "source": [
    "#x_train, x_test, y_train, train_ids, test_ids=load_csv_data(\"data\")"
   ]
  },
  {
   "cell_type": "code",
   "execution_count": 3,
   "metadata": {
    "ExecuteTime": {
     "end_time": "2023-10-29T20:42:52.664806900Z",
     "start_time": "2023-10-29T20:42:52.648497200Z"
    }
   },
   "outputs": [],
   "source": [
    "DATA_FOLDER = 'data/'"
   ]
  },
  {
   "cell_type": "code",
   "execution_count": 4,
   "metadata": {
    "ExecuteTime": {
     "end_time": "2023-10-29T20:42:52.979416500Z",
     "start_time": "2023-10-29T20:42:52.663807300Z"
    }
   },
   "outputs": [],
   "source": [
    "try:\n",
    "    with open(DATA_FOLDER + 'x_train.pickle', 'rb') as f:\n",
    "        x_train = pickle.load(f)\n",
    "    with open(DATA_FOLDER + 'x_test.pickle', 'rb') as f:\n",
    "        x_test = pickle.load(f)\n",
    "    with open(DATA_FOLDER + 'y_train.pickle', 'rb') as f:\n",
    "        y_train = pickle.load(f)\n",
    "    with open(DATA_FOLDER + 'test_ids.pickle', 'rb') as f:\n",
    "        test_ids = pickle.load(f)\n",
    "    with open(DATA_FOLDER + 'names_map.pickle', 'rb') as f:\n",
    "        names_map = pickle.load(f)\n",
    "except:\n",
    "    x_train, x_test, y_train, train_ids, test_ids = load_csv_data(DATA_FOLDER, sub_sample=False)\n",
    "\n",
    "    names = np.genfromtxt(DATA_FOLDER + 'x_train.csv', delimiter=\",\", dtype=str, max_rows=1)\n",
    "    names = np.delete(names, 0)\n",
    "    names_map = {}\n",
    "    for i in range(len(names)):\n",
    "        names_map[names[i]] = i\n",
    "\n",
    "    with open(DATA_FOLDER + 'x_train.pickle', 'wb') as f:\n",
    "        pickle.dump(x_train, f)\n",
    "\n",
    "    with open(DATA_FOLDER + 'x_test.pickle', 'wb') as f:\n",
    "        pickle.dump(x_test, f)\n",
    "\n",
    "    with open(DATA_FOLDER + 'y_train.pickle', 'wb') as f:\n",
    "        pickle.dump(y_train, f)\n",
    "\n",
    "    with open(DATA_FOLDER + 'test_ids.pickle', 'wb') as f:\n",
    "        pickle.dump(test_ids, f)\n",
    "    \n",
    "    with open(DATA_FOLDER + 'names_map.pickle', 'wb') as f:\n",
    "        pickle.dump(names_map, f)"
   ]
  },
  {
   "cell_type": "markdown",
   "metadata": {},
   "source": [
    "## Preprocessing and Scalings"
   ]
  },
  {
   "cell_type": "code",
   "execution_count": 5,
   "metadata": {
    "ExecuteTime": {
     "end_time": "2023-10-29T20:42:52.987700100Z",
     "start_time": "2023-10-29T20:42:52.980166400Z"
    }
   },
   "outputs": [],
   "source": [
    "DATA_FOLDER = 'data/'"
   ]
  },
  {
   "cell_type": "code",
   "execution_count": 6,
   "metadata": {
    "ExecuteTime": {
     "end_time": "2023-10-29T20:42:52.996171100Z",
     "start_time": "2023-10-29T20:42:52.982673800Z"
    }
   },
   "outputs": [],
   "source": [
    "names = np.genfromtxt(DATA_FOLDER + 'x_train.csv', delimiter=\",\", dtype=str, max_rows=1)\n",
    "names = np.delete(names, 0)\n",
    "names_map = {}\n",
    "for i in range(len(names)):\n",
    "    names_map[names[i]] = i"
   ]
  },
  {
   "cell_type": "code",
   "execution_count": 7,
   "metadata": {
    "ExecuteTime": {
     "end_time": "2023-10-29T20:42:53.158620800Z",
     "start_time": "2023-10-29T20:42:52.993172700Z"
    }
   },
   "outputs": [],
   "source": [
    "y_train = np.where(y_train == -1, 0, y_train)\n",
    "x_tr = x_train.copy()\n",
    "y_tr = y_train.copy()\n"
   ]
  },
  {
   "cell_type": "code",
   "execution_count": 8,
   "outputs": [],
   "source": [
    "x_tr, x_val, y_tr, y_val = split_data(x_tr, y_tr, 0.8, seed=1)"
   ],
   "metadata": {
    "collapsed": false,
    "ExecuteTime": {
     "end_time": "2023-10-29T20:42:53.377690Z",
     "start_time": "2023-10-29T20:42:53.160129900Z"
    }
   }
  },
  {
   "cell_type": "code",
   "execution_count": 9,
   "metadata": {
    "ExecuteTime": {
     "end_time": "2023-10-29T20:42:55.380077400Z",
     "start_time": "2023-10-29T20:42:53.379211300Z"
    }
   },
   "outputs": [],
   "source": [
    "#clean the data and return the cleaned dataset, the y values, the mean and median dictionaries to use to clean other sets (test set for example)\n",
    "x_tr_clean, y_tr_clean, mean_dico, median_dico, interesting_features = clean_data(names_map, x_tr, y_tr, is_y=True, is_train_data=True)\n",
    "x_val_clean, y_val_clean, _, _, _ = clean_data(names_map, x_val, y_val, is_y=True, is_train_data=False, mean_dico=mean_dico, median_dico=median_dico)\n",
    "\n",
    "#if we don't have the y values, we use is_y=False.\n",
    "x_test_clean, _, _, _, _ = clean_data(names_map, x_test, y_raw=None, is_y=False, is_train_data=False, mean_dico=mean_dico, median_dico=median_dico)"
   ]
  },
  {
   "cell_type": "code",
   "execution_count": 10,
   "outputs": [
    {
     "data": {
      "text/plain": "0.09745982374287196"
     },
     "execution_count": 10,
     "metadata": {},
     "output_type": "execute_result"
    }
   ],
   "source": [
    "np.where(y_tr_clean==1)[0].shape[0]/np.where(y_tr_clean==0)[0].shape[0]"
   ],
   "metadata": {
    "collapsed": false,
    "ExecuteTime": {
     "end_time": "2023-10-29T20:42:55.389390Z",
     "start_time": "2023-10-29T20:42:55.382140800Z"
    }
   }
  },
  {
   "cell_type": "code",
   "execution_count": 11,
   "outputs": [
    {
     "data": {
      "text/plain": "0.09443999733173238"
     },
     "execution_count": 11,
     "metadata": {},
     "output_type": "execute_result"
    }
   ],
   "source": [
    "np.where(y_val_clean==1)[0].shape[0]/np.where(y_val_clean==0)[0].shape[0]"
   ],
   "metadata": {
    "collapsed": false,
    "ExecuteTime": {
     "end_time": "2023-10-29T20:42:55.399140200Z",
     "start_time": "2023-10-29T20:42:55.390390100Z"
    }
   }
  },
  {
   "cell_type": "markdown",
   "metadata": {},
   "source": [
    "## Feature selection"
   ]
  },
  {
   "cell_type": "markdown",
   "metadata": {},
   "source": [
    "We chose some initial features by reading the report and assessing how they seemed relevant for our predictions."
   ]
  },
  {
   "cell_type": "code",
   "execution_count": 12,
   "metadata": {
    "ExecuteTime": {
     "end_time": "2023-10-29T20:42:55.408203900Z",
     "start_time": "2023-10-29T20:42:55.398135700Z"
    }
   },
   "outputs": [],
   "source": [
    "interesting_features_indexes=np.array([names_map[feature] for feature in interesting_features])"
   ]
  },
  {
   "cell_type": "code",
   "execution_count": 13,
   "metadata": {
    "ExecuteTime": {
     "end_time": "2023-10-29T20:42:55.644615500Z",
     "start_time": "2023-10-29T20:42:55.403170900Z"
    }
   },
   "outputs": [],
   "source": [
    "X_train=x_tr_clean[:,interesting_features_indexes]\n",
    "X_validation = x_val_clean[:,interesting_features_indexes]\n",
    "X_test=x_test_clean[:,interesting_features_indexes]"
   ]
  },
  {
   "cell_type": "markdown",
   "metadata": {},
   "source": [
    "#### Build polynomial expension and interaction features"
   ]
  },
  {
   "cell_type": "code",
   "execution_count": 14,
   "outputs": [],
   "source": [
    "X_train_poly,features_names=build_poly_expansion_with_interaction_features(X_train,features_names=interesting_features,max_degree=3)\n",
    "X_val_poly,_=build_poly_expansion_with_interaction_features(X_validation,features_names=interesting_features,max_degree=3)\n",
    "X_test_poly,_=build_poly_expansion_with_interaction_features(X_test,features_names=interesting_features,max_degree=3)"
   ],
   "metadata": {
    "collapsed": false,
    "ExecuteTime": {
     "end_time": "2023-10-29T20:43:29.230765400Z",
     "start_time": "2023-10-29T20:42:55.663140100Z"
    }
   }
  },
  {
   "cell_type": "code",
   "execution_count": 15,
   "metadata": {
    "ExecuteTime": {
     "end_time": "2023-10-29T20:43:31.676620100Z",
     "start_time": "2023-10-29T20:43:29.231766500Z"
    }
   },
   "outputs": [],
   "source": [
    "X_train_poly, train_mean_poly, train_std_poly=scale_data(X_train_poly,is_train_data=True)\n",
    "X_val_poly, _, _=scale_data(X_val_poly,is_train_data=False,train_mean=train_mean_poly,train_std=train_std_poly)\n",
    "X_test_poly,_,_=scale_data(X_test_poly,is_train_data=False,train_mean=train_mean_poly,train_std=train_std_poly)"
   ]
  },
  {
   "cell_type": "markdown",
   "source": [
    "#### By correlation with the output"
   ],
   "metadata": {
    "collapsed": false
   }
  },
  {
   "cell_type": "code",
   "execution_count": 17,
   "outputs": [],
   "source": [
    "# import seaborn  as sns\n",
    "\n",
    "# plt.figure(figsize=(10,6))\n",
    "# sns.heatmap(correlations,annot=False)"
   ],
   "metadata": {
    "collapsed": false
   }
  },
  {
   "cell_type": "markdown",
   "metadata": {},
   "source": [
    "#### Again selecting features with correlation with the outcome y"
   ]
  },
  {
   "cell_type": "code",
   "execution_count": 26,
   "metadata": {
    "ExecuteTime": {
     "end_time": "2023-10-29T20:35:21.123201800Z",
     "start_time": "2023-10-29T20:35:20.717307900Z"
    }
   },
   "outputs": [
    {
     "ename": "TypeError",
     "evalue": "hstack() takes 1 positional argument but 2 were given",
     "output_type": "error",
     "traceback": [
      "\u001B[1;31m---------------------------------------------------------------------------\u001B[0m",
      "\u001B[1;31mTypeError\u001B[0m                                 Traceback (most recent call last)",
      "Cell \u001B[1;32mIn[26], line 1\u001B[0m\n\u001B[1;32m----> 1\u001B[0m np\u001B[38;5;241m.\u001B[39mcorrcoef(np\u001B[38;5;241m.\u001B[39mhstack(X_train_poly, y_train\u001B[38;5;241m.\u001B[39mreshape(\u001B[38;5;241m-\u001B[39m\u001B[38;5;241m1\u001B[39m,\u001B[38;5;241m1\u001B[39m)))[:,\u001B[38;5;28mlen\u001B[39m(y_train)]\n",
      "File \u001B[1;32m<__array_function__ internals>:198\u001B[0m, in \u001B[0;36mhstack\u001B[1;34m(*args, **kwargs)\u001B[0m\n",
      "\u001B[1;31mTypeError\u001B[0m: hstack() takes 1 positional argument but 2 were given"
     ]
    }
   ],
   "source": [
    "np.corrcoef(np.hstack(X_train_poly, y_train.reshape(-1,1)))[:,len(y_train)]"
   ]
  },
  {
   "cell_type": "markdown",
   "metadata": {},
   "source": [
    "#### Ridge regression"
   ]
  },
  {
   "cell_type": "code",
   "execution_count": 16,
   "metadata": {
    "ExecuteTime": {
     "end_time": "2023-10-29T20:43:40.425471500Z",
     "start_time": "2023-10-29T20:43:31.680229700Z"
    }
   },
   "outputs": [
    {
     "name": "stdout",
     "output_type": "stream",
     "text": [
      "(0.5286948472693613, 0.14700583390528482, 0.23004631805061418)\n"
     ]
    },
    {
     "name": "stderr",
     "output_type": "stream",
     "text": [
      "D:\\Projects\\EPFL\\ML-WhAI\\ml-project-1-whai\\implementations.py:439: RuntimeWarning: invalid value encountered in scalar divide\n",
      "  precision = TP / (TP + FP)\n"
     ]
    },
    {
     "data": {
      "text/plain": "<Figure size 640x480 with 1 Axes>",
      "image/png": "[encoded data removed]"
     },
     "metadata": {},
     "output_type": "display_data"
    }
   ],
   "source": [
    "w_opt,loss=ridge_regression(y_tr_clean,X_train_poly,lambda_=0.01)\n",
    "print(compute_scores_linear_model(X_train_poly,w_opt,y=y_tr_clean,threshold=0.3,apply_sigmoid=False))\n",
    "thr_l=np.arange(-0.5,0.7,0.02)\n",
    "for lambda_ in [0.001,0.01,0.1,0.3]:\n",
    "    w_opt, loss =ridge_regression(y_tr_clean,X_train_poly,lambda_=lambda_)\n",
    "    \n",
    "    f1_scores=[compute_scores_linear_model(X_train_poly,w_opt,y_tr_clean,threshold=t,apply_sigmoid=False)[2] for t in thr_l]\n",
    "    plt.plot(thr_l,f1_scores,marker='o',label=str(lambda_))\n",
    "    plt.xlabel(\"threshold\")\n",
    "    plt.ylabel(\"f1-score\")\n",
    "plt.legend(title=\"$\\\\lambda$ value\")\n",
    "plt.title(\"Ridge regression results\")\n",
    "plt.show()"
   ]
  }
 ],
 "metadata": {
  "kernelspec": {
   "display_name": "base",
   "language": "python",
   "name": "python3"
  },
  "language_info": {
   "codemirror_mode": {
    "name": "ipython",
    "version": 3
   },
   "file_extension": ".py",
   "mimetype": "text/x-python",
   "name": "python",
   "nbconvert_exporter": "python",
   "pygments_lexer": "ipython3",
   "version": "3.8.18"
  }
 },
 "nbformat": 4,
 "nbformat_minor": 2
}
